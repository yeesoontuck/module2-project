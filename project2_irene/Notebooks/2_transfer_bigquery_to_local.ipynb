{
 "cells": [
  {
   "cell_type": "code",
   "execution_count": 1,
   "metadata": {},
   "outputs": [],
   "source": [
    "import os\n",
    "from google.cloud import bigquery"
   ]
  },
  {
   "cell_type": "code",
   "execution_count": 2,
   "metadata": {},
   "outputs": [],
   "source": [
    "# Set up the BigQuery client\n",
    "client = bigquery.Client.from_service_account_json('peak-tide-430410-c2-86ab30491506.json')"
   ]
  },
  {
   "cell_type": "code",
   "execution_count": 3,
   "metadata": {},
   "outputs": [],
   "source": [
    "# Your BigQuery dataset\n",
    "dataset_id = 'peak-tide-430410-c2.brazilian_ecommerce'"
   ]
  },
  {
   "cell_type": "code",
   "execution_count": 4,
   "metadata": {},
   "outputs": [],
   "source": [
    "# Directory where you want to save the SQL files\n",
    "models_dir = os.path.join(os.getcwd(), '..', 'models', 'staging')\n"
   ]
  },
  {
   "cell_type": "code",
   "execution_count": 5,
   "metadata": {},
   "outputs": [],
   "source": [
    "# Fetch the list of tables in the dataset\n",
    "tables = client.list_tables(dataset_id)"
   ]
  },
  {
   "cell_type": "code",
   "execution_count": 6,
   "metadata": {},
   "outputs": [],
   "source": [
    "# Extract table names into a list\n",
    "table_names = [table.table_id for table in tables]"
   ]
  },
  {
   "cell_type": "code",
   "execution_count": 7,
   "metadata": {},
   "outputs": [
    {
     "name": "stdout",
     "output_type": "stream",
     "text": [
      "Created model for table: customers\n",
      "Created model for table: geolocation\n",
      "Created model for table: order_items\n",
      "Created model for table: order_payments\n",
      "Created model for table: order_reviews\n",
      "Created model for table: orders\n",
      "Created model for table: product_category_name_translation\n",
      "Created model for table: products\n",
      "Created model for table: sellers\n"
     ]
    }
   ],
   "source": [
    "# Iterate over each table and create a corresponding SQL file\n",
    "for table_name in table_names:\n",
    "    # Define the file path for each SQL file\n",
    "    model_file_path = os.path.join(models_dir, f'stg_{table_name}.sql')\n",
    "\n",
    "    # Create the SQL file\n",
    "    with open(model_file_path, 'w') as file:\n",
    "        file.write(f\"{{{{ config(materialized='view') }}}}\\n\\n\")\n",
    "        file.write(f\"SELECT * \\nFROM {{ source('brazilian_ecommerce', '{table_name}') }}\\n\")\n",
    "        \n",
    "    print(f\"Created model for table: {table_name}\")"
   ]
  },
  {
   "cell_type": "code",
   "execution_count": null,
   "metadata": {},
   "outputs": [],
   "source": []
  }
 ],
 "metadata": {
  "kernelspec": {
   "display_name": "elt",
   "language": "python",
   "name": "python3"
  },
  "language_info": {
   "codemirror_mode": {
    "name": "ipython",
    "version": 3
   },
   "file_extension": ".py",
   "mimetype": "text/x-python",
   "name": "python",
   "nbconvert_exporter": "python",
   "pygments_lexer": "ipython3",
   "version": "3.10.16"
  }
 },
 "nbformat": 4,
 "nbformat_minor": 2
}
