{
 "cells": [
  {
   "cell_type": "code",
   "execution_count": 1,
   "metadata": {},
   "outputs": [],
   "source": [
    "import pandas as pd\n",
    "from pandas_gbq import to_gbq"
   ]
  },
  {
   "cell_type": "code",
   "execution_count": 2,
   "metadata": {},
   "outputs": [],
   "source": [
    "# Define your BigQuery dataset and table name\n",
    "dataset_name = 'brazilian_ecommerce'  # Your BigQuery dataset\n",
    "table_names = ['customers', 'geolocation', 'order_items', 'order_payments', 'order_reviews', 'orders', 'products', 'sellers', 'product_category_name_translation']"
   ]
  },
  {
   "cell_type": "code",
   "execution_count": 3,
   "metadata": {},
   "outputs": [],
   "source": [
    "# Define the path and filenames\n",
    "path = '/mnt/c/Users/irene/OneDrive/Documents/Irene/Learning/Python/NTU/Assignment/Module_2_Project/WorkingFile_bigquery/data/'\n",
    "files = ['olist_customers_dataset.csv', \n",
    "         'olist_geolocation_dataset.csv',\n",
    "         'olist_order_items_dataset.csv', \n",
    "         'olist_order_payments_dataset.csv',\n",
    "         'olist_order_reviews_dataset.csv', \n",
    "         'olist_orders_dataset.csv',\n",
    "         'olist_products_dataset.csv', \n",
    "         'olist_sellers_dataset.csv',\n",
    "         'product_category_name_translation.csv']"
   ]
  },
  {
   "cell_type": "code",
   "execution_count": 4,
   "metadata": {},
   "outputs": [
    {
     "name": "stderr",
     "output_type": "stream",
     "text": [
      "/home/irene/miniconda3/envs/elt/lib/python3.10/site-packages/google/auth/_default.py:76: UserWarning: Your application has authenticated using end user credentials from Google Cloud SDK without a quota project. You might receive a \"quota exceeded\" or \"API not enabled\" error. See the following page for troubleshooting: https://cloud.google.com/docs/authentication/adc-troubleshooting/user-creds. \n",
      "  warnings.warn(_CLOUD_SDK_CREDENTIALS_WARNING)\n",
      "100%|██████████| 1/1 [00:00<00:00, 7436.71it/s]\n"
     ]
    },
    {
     "name": "stdout",
     "output_type": "stream",
     "text": [
      "Loaded olist_customers_dataset.csv into brazilian_ecommerce.customers\n"
     ]
    },
    {
     "name": "stderr",
     "output_type": "stream",
     "text": [
      "100%|██████████| 1/1 [00:00<00:00, 3728.27it/s]\n"
     ]
    },
    {
     "name": "stdout",
     "output_type": "stream",
     "text": [
      "Loaded olist_geolocation_dataset.csv into brazilian_ecommerce.geolocation\n"
     ]
    },
    {
     "name": "stderr",
     "output_type": "stream",
     "text": [
      "100%|██████████| 1/1 [00:00<00:00, 15252.01it/s]\n"
     ]
    },
    {
     "name": "stdout",
     "output_type": "stream",
     "text": [
      "Loaded olist_order_items_dataset.csv into brazilian_ecommerce.order_items\n"
     ]
    },
    {
     "name": "stderr",
     "output_type": "stream",
     "text": [
      "100%|██████████| 1/1 [00:00<00:00, 3144.16it/s]\n"
     ]
    },
    {
     "name": "stdout",
     "output_type": "stream",
     "text": [
      "Loaded olist_order_payments_dataset.csv into brazilian_ecommerce.order_payments\n"
     ]
    },
    {
     "name": "stderr",
     "output_type": "stream",
     "text": [
      "100%|██████████| 1/1 [00:00<00:00, 13662.23it/s]\n"
     ]
    },
    {
     "name": "stdout",
     "output_type": "stream",
     "text": [
      "Loaded olist_order_reviews_dataset.csv into brazilian_ecommerce.order_reviews\n"
     ]
    },
    {
     "name": "stderr",
     "output_type": "stream",
     "text": [
      "100%|██████████| 1/1 [00:00<00:00, 4670.72it/s]\n"
     ]
    },
    {
     "name": "stdout",
     "output_type": "stream",
     "text": [
      "Loaded olist_orders_dataset.csv into brazilian_ecommerce.orders\n"
     ]
    },
    {
     "name": "stderr",
     "output_type": "stream",
     "text": [
      "100%|██████████| 1/1 [00:00<00:00, 14926.35it/s]\n"
     ]
    },
    {
     "name": "stdout",
     "output_type": "stream",
     "text": [
      "Loaded olist_products_dataset.csv into brazilian_ecommerce.products\n"
     ]
    },
    {
     "name": "stderr",
     "output_type": "stream",
     "text": [
      "100%|██████████| 1/1 [00:00<00:00, 2968.37it/s]\n"
     ]
    },
    {
     "name": "stdout",
     "output_type": "stream",
     "text": [
      "Loaded olist_sellers_dataset.csv into brazilian_ecommerce.sellers\n"
     ]
    },
    {
     "name": "stderr",
     "output_type": "stream",
     "text": [
      "100%|██████████| 1/1 [00:00<00:00, 14122.24it/s]"
     ]
    },
    {
     "name": "stdout",
     "output_type": "stream",
     "text": [
      "Loaded product_category_name_translation.csv into brazilian_ecommerce.product_category_name_translation\n"
     ]
    },
    {
     "name": "stderr",
     "output_type": "stream",
     "text": [
      "\n"
     ]
    }
   ],
   "source": [
    "import pandas as pd\n",
    "from pandas_gbq import to_gbq\n",
    "\n",
    "# Loop through each file and load it into BigQuery\n",
    "for file, table_name in zip(files, table_names):\n",
    "    # Read the CSV file into a DataFrame\n",
    "    df = pd.read_csv(f\"{path}{file}\")\n",
    "    \n",
    "    # Load the DataFrame to BigQuery\n",
    "    to_gbq(df, f\"{dataset_name}.{table_name}\", project_id='peak-tide-430410-c2', if_exists='replace')\n",
    "    print(f\"Loaded {file} into {dataset_name}.{table_name}\")"
   ]
  },
  {
   "cell_type": "raw",
   "metadata": {},
   "source": []
  }
 ],
 "metadata": {
  "kernelspec": {
   "display_name": "elt",
   "language": "python",
   "name": "python3"
  },
  "language_info": {
   "codemirror_mode": {
    "name": "ipython",
    "version": 3
   },
   "file_extension": ".py",
   "mimetype": "text/x-python",
   "name": "python",
   "nbconvert_exporter": "python",
   "pygments_lexer": "ipython3",
   "version": "3.10.16"
  }
 },
 "nbformat": 4,
 "nbformat_minor": 2
}
