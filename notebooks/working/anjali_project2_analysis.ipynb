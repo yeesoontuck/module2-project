{
 "cells": [
  {
   "cell_type": "markdown",
   "id": "20dace7a",
   "metadata": {},
   "source": [
    "## Explore what causes delivery delays "
   ]
  },
  {
   "cell_type": "code",
   "execution_count": 1,
   "id": "a49f9bae",
   "metadata": {},
   "outputs": [
    {
     "name": "stderr",
     "output_type": "stream",
     "text": [
      "C:\\Users\\anjal\\anaconda3\\lib\\site-packages\\google\\cloud\\bigquery\\table.py:2518: UserWarning: Unable to represent RANGE schema as struct using pandas ArrowDtype. Using `object` instead. To use ArrowDtype, use pandas >= 1.5 and pyarrow >= 10.0.1.\n",
      "  warnings.warn(_RANGE_PYARROW_WARNING)\n",
      "C:\\Users\\anjal\\anaconda3\\lib\\site-packages\\google\\cloud\\bigquery\\table.py:2532: UserWarning: Unable to represent RANGE schema as struct using pandas ArrowDtype. Using `object` instead. To use ArrowDtype, use pandas >= 1.5 and pyarrow >= 10.0.1.\n",
      "  warnings.warn(_RANGE_PYARROW_WARNING)\n",
      "C:\\Users\\anjal\\anaconda3\\lib\\site-packages\\google\\cloud\\bigquery\\table.py:2546: UserWarning: Unable to represent RANGE schema as struct using pandas ArrowDtype. Using `object` instead. To use ArrowDtype, use pandas >= 1.5 and pyarrow >= 10.0.1.\n",
      "  warnings.warn(_RANGE_PYARROW_WARNING)\n"
     ]
    }
   ],
   "source": [
    "import pandas as pd\n",
    "\n",
    "# Load the data \n",
    "df_orders = pd.read_gbq('SELECT * FROM project-brazilian-ecommerce.ecommerce_data.fact_orders', project_id='project-brazilian-ecommerce')\n",
    "df_order_items = pd.read_gbq('SELECT * FROM project-brazilian-ecommerce.ecommerce_data.dim_order_items', project_id='project-brazilian-ecommerce')\n",
    "df_payments = pd.read_gbq('SELECT * FROM project-brazilian-ecommerce.ecommerce_data.dim_payments', project_id='project-brazilian-ecommerce')\n",
    "df_customers = pd.read_gbq('SELECT * FROM project-brazilian-ecommerce.ecommerce_data.dim_customers', project_id='project-brazilian-ecommerce')"
   ]
  },
  {
   "cell_type": "code",
   "execution_count": 39,
   "id": "38c79f3b",
   "metadata": {},
   "outputs": [],
   "source": [
    "# Convert the datetime columns to datetime dtype\n",
    "df_orders['order_purchase_timestamp'] = pd.to_datetime(df_orders['order_purchase_timestamp'], errors='coerce')\n",
    "df_orders['order_delivered_customer_date'] = pd.to_datetime(df_orders['order_delivered_customer_date'], errors='coerce')\n",
    "\n",
    "# Calculate the delivery time in days\n",
    "df_orders['delivery_time_days'] = (df_orders['order_delivered_customer_date'] - df_orders['order_purchase_timestamp']).dt.days\n",
    "\n",
    "# Handle NaN values in 'delivery_time_days' by filling them with a default value \n",
    "df_orders['delivery_time_days'] = df_orders['delivery_time_days'].fillna(0).astype(int)"
   ]
  },
  {
   "cell_type": "code",
   "execution_count": 40,
   "id": "02533912",
   "metadata": {},
   "outputs": [],
   "source": [
    "df = pd.merge(df_orders, df_order_items[['order_id', 'price', 'freight_value', 'product_category_name_english']], on='order_id', how='left')\n",
    "df = pd.merge(df, df_payments[['order_id', 'payment_type']], on='order_id', how='left')\n",
    "df = pd.merge(df, df_customers[['customer_id', 'customer_city', 'customer_state']], on='customer_id', how='left')"
   ]
  },
  {
   "cell_type": "code",
   "execution_count": 41,
   "id": "d9636494",
   "metadata": {},
   "outputs": [],
   "source": [
    "df['order_month'] = df['order_purchase_timestamp'].dt.month"
   ]
  },
  {
   "cell_type": "code",
   "execution_count": 8,
   "id": "55e5ec39",
   "metadata": {},
   "outputs": [],
   "source": [
    "#df = pd.get_dummies(df, columns=['payment_type', 'customer_city', 'customer_state'], drop_first=True)\n"
   ]
  },
  {
   "cell_type": "markdown",
   "id": "76380795",
   "metadata": {},
   "source": [
    "## Insights on correlation between delivery time and price, freight value, total price, payment type"
   ]
  },
  {
   "cell_type": "code",
   "execution_count": 9,
   "id": "46b4a229",
   "metadata": {},
   "outputs": [
    {
     "name": "stdout",
     "output_type": "stream",
     "text": [
      "delivery_time_days          1.000000\n",
      "freight_value               0.201417\n",
      "total_order_value           0.056452\n",
      "price                       0.054286\n",
      "payment_type_voucher        0.002429\n",
      "payment_type_debit_card    -0.021793\n",
      "payment_type_credit_card   -0.038953\n",
      "order_month                -0.052159\n",
      "Name: delivery_time_days, dtype: float64\n"
     ]
    }
   ],
   "source": [
    "df = pd.get_dummies(df, columns=['payment_type'], drop_first=True)\n",
    "# Compute correlation matrix for numerical columns\n",
    "correlation_matrix = df.corr()\n",
    "\n",
    "# Display correlation with 'delivery_time_days'\n",
    "correlation_with_delivery_time = correlation_matrix['delivery_time_days'].sort_values(ascending=False)\n",
    "print(correlation_with_delivery_time)"
   ]
  },
  {
   "cell_type": "markdown",
   "id": "44c84396",
   "metadata": {},
   "source": [
    "#### Freight Value: The correlation is 0.201417, suggesting a positive relationship between freight costs and delivery time. Orders with higher freight values might take slightly longer to deliver."
   ]
  },
  {
   "cell_type": "markdown",
   "id": "6fba0874",
   "metadata": {},
   "source": [
    "## Insights on correlation between delivery time and customer states"
   ]
  },
  {
   "cell_type": "code",
   "execution_count": 42,
   "id": "fef78c78",
   "metadata": {
    "scrolled": true
   },
   "outputs": [
    {
     "name": "stdout",
     "output_type": "stream",
     "text": [
      "Top 10 States with Highest Correlation:\n",
      "customer_state_BA    0.127292\n",
      "customer_state_PA    0.112645\n",
      "customer_state_RJ    0.104589\n",
      "customer_state_CE    0.096113\n",
      "customer_state_MA    0.078974\n",
      "customer_state_AL    0.075429\n",
      "customer_state_PE    0.073309\n",
      "customer_state_RS    0.068532\n",
      "customer_state_PB    0.061065\n",
      "customer_state_AM    0.056265\n",
      "Name: delivery_time_days, dtype: float64\n"
     ]
    }
   ],
   "source": [
    "df_state = pd.get_dummies(df, columns=['customer_state'], drop_first=True)\n",
    "# Compute correlation matrix for numerical columns\n",
    "correlation_matrix = df_state.corr()\n",
    "\n",
    "# Display correlation with 'delivery_time_days'\n",
    "correlation_with_delivery_time = correlation_matrix['delivery_time_days'].sort_values(ascending=False)\n",
    "#print(correlation_with_delivery_time)\n",
    "\n",
    "# Filter only the columns for customer states (those starting with 'customer_state_')\n",
    "state_columns = [col for col in correlation_with_delivery_time.index if col.startswith('customer_state_')]\n",
    "\n",
    "# Extract correlations for customer states only\n",
    "state_correlations = correlation_with_delivery_time[state_columns]\n",
    "\n",
    "# Sort the correlations in descending order\n",
    "sorted_state_correlations = state_correlations.sort_values(ascending=False)\n",
    "\n",
    "# Display the sorted correlations for states\n",
    "#print(sorted_state_correlations)\n",
    "\n",
    "# Get top 10 states with the highest correlation\n",
    "top_10_states_highest = state_correlations.sort_values(ascending=False).head(10)\n",
    "\n",
    "# Get top 10 states with the lowest correlation\n",
    "top_10_states_lowest = state_correlations.sort_values(ascending=True).head(10)\n",
    "\n",
    "# Display results\n",
    "print(\"Top 10 States with Highest Correlation:\")\n",
    "print(top_10_states_highest)\n"
   ]
  },
  {
   "cell_type": "markdown",
   "id": "a0e1bdd8",
   "metadata": {},
   "source": [
    "#### Bahia (BA) (0.127292): Orders to Bahia have the highest positive correlation with delivery time, indicating that deliveries to this state tend to take longer. Pará (PA) (0.112645) and Rio de Janeiro (RJ) (0.104589) also show relatively strong positive correlations, suggesting extended delivery times compared to other states."
   ]
  },
  {
   "cell_type": "code",
   "execution_count": 43,
   "id": "c2b4b14e",
   "metadata": {},
   "outputs": [
    {
     "name": "stdout",
     "output_type": "stream",
     "text": [
      "\n",
      "Top 10 States with Lowest Correlation:\n",
      "customer_state_SP   -0.328215\n",
      "customer_state_MG   -0.016921\n",
      "customer_state_PR   -0.010241\n",
      "customer_state_DF    0.006923\n",
      "customer_state_TO    0.026327\n",
      "customer_state_MS    0.028128\n",
      "customer_state_RR    0.028405\n",
      "customer_state_RO    0.037036\n",
      "customer_state_GO    0.042954\n",
      "customer_state_AP    0.043739\n",
      "Name: delivery_time_days, dtype: float64\n"
     ]
    }
   ],
   "source": [
    "print(\"\\nTop 10 States with Lowest Correlation:\")\n",
    "print(top_10_states_lowest)\n"
   ]
  },
  {
   "cell_type": "markdown",
   "id": "3db5448f",
   "metadata": {},
   "source": [
    "#### São Paulo stands out with a notable negative correlation, indicating significantly shorter delivery times compared to other states. This may reflect better infrastructure or proximity to distribution centers."
   ]
  },
  {
   "cell_type": "markdown",
   "id": "945d86d4",
   "metadata": {},
   "source": [
    "## Insights on correlation between delivery time and product categories"
   ]
  },
  {
   "cell_type": "code",
   "execution_count": 35,
   "id": "a3d8f63e",
   "metadata": {},
   "outputs": [
    {
     "name": "stdout",
     "output_type": "stream",
     "text": [
      "product_category_name_english_office_furniture         0.109970\n",
      "product_category_name_english_garden_tools             0.025244\n",
      "product_category_name_english_computers_accessories    0.021086\n",
      "product_category_name_english_fashion_shoes            0.013979\n",
      "product_category_name_english_bed_bath_table           0.013758\n",
      "product_category_name_english_christmas_supplies       0.012325\n",
      "product_category_name_english_furniture_living_room    0.010839\n",
      "product_category_name_english_furniture_decor          0.010794\n",
      "product_category_name_english_consoles_games           0.008461\n",
      "product_category_name_english_electronics              0.008421\n",
      "Name: delivery_time_days, dtype: float64\n"
     ]
    }
   ],
   "source": [
    "# Filter product category columns only\n",
    "product_category_columns = [col for col in correlation_with_delivery_time.index if col.startswith('product_category_name_english')]\n",
    "\n",
    "# Extract correlations for product categories\n",
    "product_category_correlations = correlation_with_delivery_time[product_category_columns]\n",
    "\n",
    "# Sort correlations in descending order\n",
    "sorted_product_category_correlations = product_category_correlations.sort_values(ascending=False)\n",
    "\n",
    "# Display the correlations\n",
    "#print(sorted_product_category_correlations)\n",
    "\n",
    "# Display the top 10 product categories with the highest correlations\n",
    "top_10_categories = product_category_correlations.sort_values(ascending=False).head(10)\n",
    "print(top_10_categories)\n",
    "\n"
   ]
  },
  {
   "cell_type": "markdown",
   "id": "87d4425f",
   "metadata": {},
   "source": [
    "#### Office furniture has the strongest positive correlation with delivery time, suggesting that orders for this category might tend to experience longer delivery times. Garden tools show a slight positive correlation, indicating slightly longer delivery times for orders in this category."
   ]
  },
  {
   "cell_type": "code",
   "execution_count": 33,
   "id": "c2ec7bbd",
   "metadata": {},
   "outputs": [
    {
     "name": "stdout",
     "output_type": "stream",
     "text": [
      "product_category_name_english_housewares                        -0.040705\n",
      "product_category_name_english_food                              -0.019931\n",
      "product_category_name_english_fashion_bags_accessories          -0.017383\n",
      "product_category_name_english_luggage_accessories               -0.016943\n",
      "product_category_name_english_construction_tools_construction   -0.016173\n",
      "product_category_name_english_toys                              -0.015579\n",
      "product_category_name_english_pet_shop                          -0.015326\n",
      "product_category_name_english_health_beauty                     -0.014889\n",
      "product_category_name_english_construction_tools_lights         -0.014455\n",
      "product_category_name_english_drinks                            -0.013759\n",
      "Name: delivery_time_days, dtype: float64\n"
     ]
    }
   ],
   "source": [
    "# Display the bottom 10 product categories with the lowest correlations\n",
    "bottom_10_categories = product_category_correlations.sort_values(ascending=True).head(10)\n",
    "print(bottom_10_categories)\n"
   ]
  },
  {
   "cell_type": "markdown",
   "id": "5b1223e1",
   "metadata": {},
   "source": [
    "#### Housewares have the strongest negative correlation, suggesting that orders for this category may experience slightly faster delivery times compared to others. Food-related orders are also somewhat negatively correlated, implying shorter delivery times."
   ]
  },
  {
   "cell_type": "markdown",
   "id": "272cdf5e",
   "metadata": {},
   "source": [
    "## Insights on correlation between delivery time and months"
   ]
  },
  {
   "cell_type": "code",
   "execution_count": 15,
   "id": "001d007c",
   "metadata": {},
   "outputs": [
    {
     "name": "stdout",
     "output_type": "stream",
     "text": [
      "order_month\n",
      "1     13.169843\n",
      "2     15.275641\n",
      "3     14.330064\n",
      "4     11.453401\n",
      "5     10.674566\n",
      "6      9.537105\n",
      "7      9.254375\n",
      "8      8.379829\n",
      "9     11.340580\n",
      "10    11.422450\n",
      "11    14.194987\n",
      "12    14.541660\n",
      "Name: delivery_time_days, dtype: float64\n"
     ]
    }
   ],
   "source": [
    "# Group by 'order_month' and calculate the mean delivery time for each month\n",
    "monthly_delivery_mean = df.groupby('order_month')['delivery_time_days'].mean()\n",
    "\n",
    "# Display the mean delivery time for each month\n",
    "print(monthly_delivery_mean)\n"
   ]
  },
  {
   "cell_type": "markdown",
   "id": "ff742620",
   "metadata": {},
   "source": [
    "#### February (Month 2) has the longest average delivery time at 15.28 days. Other months with long average delivery times include March (14.33 days), November (14.19 days), and December (14.54 days), likely reflecting possible delays due to seasonal or logistical factors (e.g., holidays).\n",
    "\n",
    "#### August (Month 8) shows the shortest average delivery time at 8.38 days. July and June also have relatively short delivery times at 9.25 days and 9.54 days, respectively.\n"
   ]
  },
  {
   "cell_type": "code",
   "execution_count": 16,
   "id": "5a8dae16",
   "metadata": {},
   "outputs": [
    {
     "data": {
      "image/png": "[encoded data removed]",
      "text/plain": [
       "<Figure size 432x288 with 1 Axes>"
      ]
     },
     "metadata": {
      "needs_background": "light"
     },
     "output_type": "display_data"
    }
   ],
   "source": [
    "import matplotlib.pyplot as plt\n",
    "\n",
    "# Plot a bar chart for mean delivery times by month\n",
    "monthly_delivery_mean.plot(kind='bar', color='skyblue')\n",
    "plt.title('Average Delivery Time by Order Month')\n",
    "plt.xlabel('Order Month')\n",
    "plt.ylabel('Average Delivery Time (days)')\n",
    "plt.xticks(rotation=0)  # Keep month labels horizontal\n",
    "plt.show()\n"
   ]
  },
  {
   "cell_type": "markdown",
   "id": "e0cac866",
   "metadata": {},
   "source": [
    "## Delivery Time Analysis Overview\n",
    "#### There’s a positive relationship between freight value and delivery time. Orders with higher freight costs tend to take slightly longer to deliver, reflecting the complexity or handling requirements of higher-value shipments.\n",
    "\n",
    "#### States like Bahia, Pará, and Rio de Janeiro, primarily in the north and northeast, likely face logistical challenges such as accessibility, infrastructure, or proximity to warehouses. São Paulo stands out with significantly shorter delivery times due to better infrastructure and proximity to major distribution centers.\n",
    "\n",
    "#### Office furniture shows the strongest positive correlation, suggesting that orders in this category might take longer due to size or shipping requirements. Housewares have the strongest negative correlation, indicating faster deliveries, possibly due to easier stock availability or simpler shipping logistics. Food-related orders also show a minor negative correlation, suggesting quicker deliveries. \n",
    "\n",
    "#### February has the longest average delivery time, followed by March, November, and December. Seasonal peaks, holidays, and higher demand likely contribute to these delays."
   ]
  },
  {
   "cell_type": "code",
   "execution_count": null,
   "id": "cbfb44ef",
   "metadata": {},
   "outputs": [],
   "source": []
  }
 ],
 "metadata": {
  "kernelspec": {
   "display_name": "Python 3",
   "language": "python",
   "name": "python3"
  },
  "language_info": {
   "codemirror_mode": {
    "name": "ipython",
    "version": 3
   },
   "file_extension": ".py",
   "mimetype": "text/x-python",
   "name": "python",
   "nbconvert_exporter": "python",
   "pygments_lexer": "ipython3",
   "version": "3.8.8"
  }
 },
 "nbformat": 4,
 "nbformat_minor": 5
}
