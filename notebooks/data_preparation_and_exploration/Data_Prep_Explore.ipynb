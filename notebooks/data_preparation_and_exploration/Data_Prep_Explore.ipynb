{
 "cells": [
  {
   "cell_type": "markdown",
   "metadata": {},
   "source": [
    "### **Report on Data Processing Approach**\n",
    "\n",
    "**Introduction**  \n",
    "This report outlines the approach taken for data processing, exploration, and validation in our project. Given the nature of our work, we have chosen to handle these tasks separately from the main pipeline orchestration and data analysis process.\n",
    "\n",
    "**Purpose of This Notebook**  \n",
    "The primary function of this notebook is to facilitate data exploration, cleaning, and validation. These steps are crucial in ensuring data quality before it is integrated into further analysis.\n",
    "\n",
    "**Separation from Pipeline Orchestration**  \n",
    "As this notebook focuses on pre-processing activities, it is not part of our main pipeline orchestration or analytical workflows. Instead, it serves as a dedicated space to refine and understand the data before it is incorporated into structured analysis.\n",
    "\n",
    "**Extending Data Exploration**  \n",
    "In addition to its core purpose, this notebook allows us to extend our data exploration beyond the established star schema tracks. By working within this environment, we can uncover additional insights and refine our approach to data modeling and analysis.\n",
    "\n",
    "**Conclusion**  \n",
    "By keeping data processing separate, we ensure that our pipeline remains streamlined while still leveraging a structured approach to data exploration and validation. This method allows for a more flexible and comprehensive understanding of our dataset without interfering with the core analytical processes.\n"
   ]
  },
  {
   "cell_type": "markdown",
   "metadata": {},
   "source": [
    "### **Test Case:** \n",
    "##### **Validation of Delivered Order Value Against Payment Receipts**\n",
    "\n",
    "**Objective**  \n",
    "This test case examines the relationship between orders, order items, and payments to ensure data consistency. Specifically, we validate whether delivered orders align with recorded payment receipts while identifying discrepancies in order item tracking.\n",
    "\n",
    "**Observations**  \n",
    "1) Order-Payment Relationship\n",
    "    - Orders are linked to payments.\n",
    "    - Orders are also linked to order items.\n",
    "    - However, order items are not directly linked to payments.\n",
    "\n",
    "2) Data Inconsistencies Identified\n",
    "    - Payments exist without corresponding order item details.\n",
    "    - Orders marked as delivered and paid have no order item records.\n",
    "    - A total of 643 transactions are categorized as unavailable, with missing payment values. This highlights inconsistencies in data management, leading to potential misreporting.\n",
    "\n",
    "**Validation Rule Implementation**  \n",
    "To improve data quality, our validation rules are set as follows:\n",
    "- Accepted: Orders that are cancelled (considered valid exceptions).\n",
    "- Flagged as Errors: Orders with statuses created, delivered, invoiced, shipped, or unavailable that do not have proper order item details. These will require rectification and data cleaning.\n",
    "\n",
    "**Conclusion**  \n",
    "This validation process highlights critical gaps in data tracking, particularly with missing order item records. By enforcing these validation rules, we ensure greater accuracy in order and payment reconciliation, reducing potential errors in financial reporting and business operations.\n",
    "\n",
    "\n"
   ]
  },
  {
   "cell_type": "markdown",
   "metadata": {},
   "source": [
    "##### **Step 1: Collect the raw data and explore data**\n",
    "[Raw Data store in GitHub Repository](https://github.com/yeesoontuck/module2-project/tree/main/data)"
   ]
  },
  {
   "cell_type": "code",
   "execution_count": 12,
   "metadata": {},
   "outputs": [],
   "source": [
    "import pandas as pd"
   ]
  },
  {
   "cell_type": "code",
   "execution_count": 13,
   "metadata": {},
   "outputs": [
    {
     "name": "stdout",
     "output_type": "stream",
     "text": [
      "Total Payment Value from order_payments (raw data): BRL 16008872.12\n"
     ]
    }
   ],
   "source": [
    "payment_df = pd.read_csv('../../data/olist_order_payments_dataset.csv')\n",
    "payment_df\n",
    "\n",
    "total_payment = round(payment_df['payment_value'].sum(),2)\n",
    "print(f'Total Payment Value from order_payments (raw data): BRL {total_payment}')\n"
   ]
  },
  {
   "cell_type": "markdown",
   "metadata": {},
   "source": [
    "##### **Step 2: Data Discovery**"
   ]
  },
  {
   "cell_type": "markdown",
   "metadata": {},
   "source": [
    "##### **Step 3: Data Cleaning**  \n",
    "To ensure data integrity, we implement a structured data cleaning process using dbt tests, leveraging dbt.utils and dbt.expectations to validate data quality.\n",
    "\n",
    "**Key Validation Checks:**  \n",
    "Data Duplication – Identify and remove duplicate records to prevent redundancy.\n",
    "Irrelevant Information – Filter out unnecessary or misleading data that does not contribute to analysis.\n",
    "Error Removal – Detect and eliminate inconsistencies or anomalies to improve data accuracy.\n",
    "By applying these validations, we enhance data reliability, ensuring a cleaner and more structured dataset for further analysis."
   ]
  },
  {
   "cell_type": "markdown",
   "metadata": {},
   "source": [
    "##### **Step 4: Transform and Enrich Data (Data Integration)**  \n",
    "In this step, we focus on integrating and transforming the data into a usable format suitable for business or data analysis. This ensures that the data is structured and ready for deeper insights.\n",
    "\n",
    "**Key Actions:**  \n",
    "- Data Transformation – Convert raw data into a consistent, well-organized format for analysis, applying necessary transformations to align with business requirements.\n",
    "- Data Integration – Combine data from various sources to create a unified dataset, ensuring consistency and compatibility for analysis.\n",
    "- Logical Validation – Verify key logical checks, such as ensuring delivered orders are not marked as unpaid, ensuring that business rules and logic are correctly applied throughout the dataset.\n",
    "\n",
    "By transforming and enriching the data in this manner, we enhance its usability, providing a solid foundation for accurate and reliable business analysis."
   ]
  },
  {
   "cell_type": "code",
   "execution_count": 14,
   "metadata": {},
   "outputs": [
    {
     "data": {
      "text/plain": [
       "price                 13591643.70\n",
       "freight_value          2251909.54\n",
       "prop_payment_value    15846280.17\n",
       "dtype: float64"
      ]
     },
     "execution_count": 14,
     "metadata": {},
     "output_type": "execute_result"
    }
   ],
   "source": [
    "oip_df = pd.read_csv('3_data_csv/fact_order_item_details.csv') # 'oip' stands for order-order_item-payment\n",
    "filtered_oip_df = oip_df[['price', 'freight_value', 'prop_payment_value']].sum() # prop_payment_value is the proportioned payment value to distribute into order item lines.\n",
    "filtered_oip_df\n"
   ]
  },
  {
   "cell_type": "markdown",
   "metadata": {},
   "source": [
    "**Data Explanation: Price, Freight, and Payment Values**  \n",
    "1) price: Represents the total order value (excluding freight).\n",
    "2) freight_value: Represents the total freight value associated with the order items.\n",
    "3) prop_payment_value: The total payment value linked to the order, proportionately distributed across the corresponding order items.\n",
    "\n",
    "**Summary**\n",
    "The total payment value that can be identified in both the order and the order items is the sum of price and freight_value, which accounts for the complete financial transaction related to the order. This relationship ensures that payments are accurately tracked and matched against the order and its associated items."
   ]
  },
  {
   "cell_type": "markdown",
   "metadata": {},
   "source": [
    "##### **Step 4 - Finding the Discrepancies between Row Payment Data and Transformed Payment Data**\n",
    "\n",
    "In this step, we focus on identifying discrepancies between the original row payment data and the transformed payment data. This process helps to ensure all payment information has been correctly processed and integrated into the final dataset.\n",
    "\n",
    "**Key Actions:**\n",
    "- Data Comparison – Compare the raw payment data with the transformed payment data to identify any differences or mismatches.\n",
    "- Identify Discrepancies – Focus on key areas where discrepancies may arise, such as differences in payment amounts or missing payment records.\n",
    "- Investigate Anomalies – Investigate the root causes of any inconsistencies, such as data entry errors, transformation issues, or incorrect mapping between order and payment records.\n",
    "\n",
    "\n",
    "**Result (see below)**  \n",
    "- Missing Data: A total of 883 transactions are identified where the order items could not be linked or identified.\n",
    "- Distinct Orders: The second step involved checking the number of distinct orders, with a total of 776 unique orders identified.\n"
   ]
  },
  {
   "cell_type": "code",
   "execution_count": 15,
   "metadata": {},
   "outputs": [
    {
     "data": {
      "text/html": [
       "<div>\n",
       "<style scoped>\n",
       "    .dataframe tbody tr th:only-of-type {\n",
       "        vertical-align: middle;\n",
       "    }\n",
       "\n",
       "    .dataframe tbody tr th {\n",
       "        vertical-align: top;\n",
       "    }\n",
       "\n",
       "    .dataframe thead th {\n",
       "        text-align: right;\n",
       "    }\n",
       "</style>\n",
       "<table border=\"1\" class=\"dataframe\">\n",
       "  <thead>\n",
       "    <tr style=\"text-align: right;\">\n",
       "      <th></th>\n",
       "      <th>order_status</th>\n",
       "      <th>order_status_count</th>\n",
       "      <th>price_sum</th>\n",
       "    </tr>\n",
       "  </thead>\n",
       "  <tbody>\n",
       "    <tr>\n",
       "      <th>0</th>\n",
       "      <td>canceled</td>\n",
       "      <td>179</td>\n",
       "      <td>0.00</td>\n",
       "    </tr>\n",
       "    <tr>\n",
       "      <th>1</th>\n",
       "      <td>created</td>\n",
       "      <td>5</td>\n",
       "      <td>0.00</td>\n",
       "    </tr>\n",
       "    <tr>\n",
       "      <th>2</th>\n",
       "      <td>delivered</td>\n",
       "      <td>3</td>\n",
       "      <td>134.97</td>\n",
       "    </tr>\n",
       "    <tr>\n",
       "      <th>3</th>\n",
       "      <td>invoiced</td>\n",
       "      <td>2</td>\n",
       "      <td>0.00</td>\n",
       "    </tr>\n",
       "    <tr>\n",
       "      <th>4</th>\n",
       "      <td>shipped</td>\n",
       "      <td>1</td>\n",
       "      <td>0.00</td>\n",
       "    </tr>\n",
       "    <tr>\n",
       "      <th>5</th>\n",
       "      <td>unavailable</td>\n",
       "      <td>643</td>\n",
       "      <td>0.00</td>\n",
       "    </tr>\n",
       "  </tbody>\n",
       "</table>\n",
       "</div>"
      ],
      "text/plain": [
       "  order_status  order_status_count  price_sum\n",
       "0     canceled                 179       0.00\n",
       "1      created                   5       0.00\n",
       "2    delivered                   3     134.97\n",
       "3     invoiced                   2       0.00\n",
       "4      shipped                   1       0.00\n",
       "5  unavailable                 643       0.00"
      ]
     },
     "execution_count": 15,
     "metadata": {},
     "output_type": "execute_result"
    }
   ],
   "source": [
    "missing_df = pd.read_csv('3_data_csv/case1_missingdata.csv') # 'oip' stands for order-order_item-payment\n",
    "oip_df.head(3)\n",
    "\n",
    "filtered_missing_df = missing_df.groupby('order_status', as_index=False).agg(\n",
    "    order_status_count=('order_status', 'count'),\n",
    "    price_sum=('price', 'sum'))\n",
    "\n",
    "filtered_missing_df"
   ]
  },
  {
   "cell_type": "code",
   "execution_count": 16,
   "metadata": {},
   "outputs": [
    {
     "data": {
      "text/html": [
       "<div>\n",
       "<style scoped>\n",
       "    .dataframe tbody tr th:only-of-type {\n",
       "        vertical-align: middle;\n",
       "    }\n",
       "\n",
       "    .dataframe tbody tr th {\n",
       "        vertical-align: top;\n",
       "    }\n",
       "\n",
       "    .dataframe thead th {\n",
       "        text-align: right;\n",
       "    }\n",
       "</style>\n",
       "<table border=\"1\" class=\"dataframe\">\n",
       "  <thead>\n",
       "    <tr style=\"text-align: right;\">\n",
       "      <th></th>\n",
       "      <th>order_in_orders</th>\n",
       "      <th>payment_count</th>\n",
       "      <th>total_payment_without_items</th>\n",
       "    </tr>\n",
       "  </thead>\n",
       "  <tbody>\n",
       "    <tr>\n",
       "      <th>0</th>\n",
       "      <td>0010dedd556712d7bb69a19cb7bbd37a</td>\n",
       "      <td>1</td>\n",
       "      <td>111.12</td>\n",
       "    </tr>\n",
       "    <tr>\n",
       "      <th>1</th>\n",
       "      <td>00a500bc03bc4ec968e574c2553bed4b</td>\n",
       "      <td>1</td>\n",
       "      <td>555.99</td>\n",
       "    </tr>\n",
       "    <tr>\n",
       "      <th>2</th>\n",
       "      <td>00b1cb0320190ca0daa2c88b35206009</td>\n",
       "      <td>1</td>\n",
       "      <td>0.00</td>\n",
       "    </tr>\n",
       "    <tr>\n",
       "      <th>3</th>\n",
       "      <td>00bca4adac549020c1273714d04d0208</td>\n",
       "      <td>1</td>\n",
       "      <td>111.30</td>\n",
       "    </tr>\n",
       "    <tr>\n",
       "      <th>4</th>\n",
       "      <td>00d0ffd14774da775ac832ba8520510f</td>\n",
       "      <td>1</td>\n",
       "      <td>134.49</td>\n",
       "    </tr>\n",
       "    <tr>\n",
       "      <th>...</th>\n",
       "      <td>...</td>\n",
       "      <td>...</td>\n",
       "      <td>...</td>\n",
       "    </tr>\n",
       "    <tr>\n",
       "      <th>771</th>\n",
       "      <td>fdcca0e15a4d03e3fb89fb14664a3744</td>\n",
       "      <td>1</td>\n",
       "      <td>29.59</td>\n",
       "    </tr>\n",
       "    <tr>\n",
       "      <th>772</th>\n",
       "      <td>fddbd183387b5c9bcbafbd0fe965301f</td>\n",
       "      <td>1</td>\n",
       "      <td>40.00</td>\n",
       "    </tr>\n",
       "    <tr>\n",
       "      <th>773</th>\n",
       "      <td>fe87d4b944748f63ca5ed22cc55b6fb6</td>\n",
       "      <td>1</td>\n",
       "      <td>173.68</td>\n",
       "    </tr>\n",
       "    <tr>\n",
       "      <th>774</th>\n",
       "      <td>feae5ecdf2cc16c1007741be785fe3cd</td>\n",
       "      <td>1</td>\n",
       "      <td>68.53</td>\n",
       "    </tr>\n",
       "    <tr>\n",
       "      <th>775</th>\n",
       "      <td>ff71fa43cf5b726cd4a5763c7d819a35</td>\n",
       "      <td>1</td>\n",
       "      <td>81.89</td>\n",
       "    </tr>\n",
       "  </tbody>\n",
       "</table>\n",
       "<p>776 rows × 3 columns</p>\n",
       "</div>"
      ],
      "text/plain": [
       "                      order_in_orders  payment_count  \\\n",
       "0    0010dedd556712d7bb69a19cb7bbd37a              1   \n",
       "1    00a500bc03bc4ec968e574c2553bed4b              1   \n",
       "2    00b1cb0320190ca0daa2c88b35206009              1   \n",
       "3    00bca4adac549020c1273714d04d0208              1   \n",
       "4    00d0ffd14774da775ac832ba8520510f              1   \n",
       "..                                ...            ...   \n",
       "771  fdcca0e15a4d03e3fb89fb14664a3744              1   \n",
       "772  fddbd183387b5c9bcbafbd0fe965301f              1   \n",
       "773  fe87d4b944748f63ca5ed22cc55b6fb6              1   \n",
       "774  feae5ecdf2cc16c1007741be785fe3cd              1   \n",
       "775  ff71fa43cf5b726cd4a5763c7d819a35              1   \n",
       "\n",
       "     total_payment_without_items  \n",
       "0                         111.12  \n",
       "1                         555.99  \n",
       "2                           0.00  \n",
       "3                         111.30  \n",
       "4                         134.49  \n",
       "..                           ...  \n",
       "771                        29.59  \n",
       "772                        40.00  \n",
       "773                       173.68  \n",
       "774                        68.53  \n",
       "775                        81.89  \n",
       "\n",
       "[776 rows x 3 columns]"
      ]
     },
     "execution_count": 16,
     "metadata": {},
     "output_type": "execute_result"
    }
   ],
   "source": [
    "filtered_payment_no_item_df = missing_df.groupby('order_in_orders', as_index=False).agg(\n",
    "    payment_count=('payment_without_items', 'count'),\n",
    "    total_payment_without_items=('payment_without_items', 'sum')\n",
    ")\n",
    "filtered_payment_no_item_df"
   ]
  },
  {
   "cell_type": "code",
   "execution_count": 17,
   "metadata": {},
   "outputs": [
    {
     "name": "stdout",
     "output_type": "stream",
     "text": [
      "Total payment value without order item track: BRL 162591.95\n"
     ]
    }
   ],
   "source": [
    "total_payment_value_without_items = missing_df['payment_without_items'].sum()\n",
    "print('Total payment value without order item track: BRL',total_payment_value_without_items)"
   ]
  },
  {
   "cell_type": "markdown",
   "metadata": {},
   "source": [
    "##### **Step 5: Set Validation after Data Evaluation**\n",
    "\n",
    "This validation rule is designed to accept only one order status category ('canceled'). This ensures that both the system administrator and data analysts are alerted to verify and confirm the case, ensuring data accuracy and integrity."
   ]
  },
  {
   "cell_type": "raw",
   "metadata": {
    "vscode": {
     "languageId": "raw"
    }
   },
   "source": [
    "models:\n",
    "  - name: check_order_item_payment\n",
    "    description: 'Model description'\n",
    "    columns:\n",
    "      - name: order_status\n",
    "        description: Only 'canceled' status is acceptable here.\n",
    "        tests:\n",
    "          - dbt_utils.expression_is_true:\n",
    "              expression: \"{{ order_status }} = 'canceled'\""
   ]
  }
 ],
 "metadata": {
  "kernelspec": {
   "display_name": "elt",
   "language": "python",
   "name": "python3"
  },
  "language_info": {
   "codemirror_mode": {
    "name": "ipython",
    "version": 3
   },
   "file_extension": ".py",
   "mimetype": "text/x-python",
   "name": "python",
   "nbconvert_exporter": "python",
   "pygments_lexer": "ipython3",
   "version": "3.10.16"
  }
 },
 "nbformat": 4,
 "nbformat_minor": 2
}
