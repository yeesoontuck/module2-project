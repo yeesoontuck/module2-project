{
 "cells": [
  {
   "cell_type": "markdown",
   "id": "20dace7a",
   "metadata": {},
   "source": [
    "## Analyze and identify the key factors influencing delivery time, and recommend targeted solutions to reduce delays and improve overall logistics efficiency. "
   ]
  },
  {
   "cell_type": "markdown",
   "id": "53e86c28",
   "metadata": {},
   "source": [
    "#### The purpose of the analysis: Explore which factors causes delivery delays and offer appropriate solutions.<br>The dataset used: Brazilian E-Commerce Dataset by Olist.<br>An overview of methods: Correlation analysis, Performance metrics, Targeted solutions.\n"
   ]
  },
  {
   "cell_type": "markdown",
   "id": "89ba18c7",
   "metadata": {},
   "source": [
    "## Load data"
   ]
  },
  {
   "cell_type": "code",
   "execution_count": 1,
   "id": "3641a34d",
   "metadata": {},
   "outputs": [],
   "source": [
    "import pandas as pd\n",
    "import matplotlib.pyplot as plt"
   ]
  },
  {
   "cell_type": "code",
   "execution_count": 2,
   "id": "a49f9bae",
   "metadata": {},
   "outputs": [
    {
     "name": "stderr",
     "output_type": "stream",
     "text": [
      "C:\\Users\\anjal\\anaconda3\\lib\\site-packages\\google\\cloud\\bigquery\\table.py:2518: UserWarning: Unable to represent RANGE schema as struct using pandas ArrowDtype. Using `object` instead. To use ArrowDtype, use pandas >= 1.5 and pyarrow >= 10.0.1.\n",
      "  warnings.warn(_RANGE_PYARROW_WARNING)\n",
      "C:\\Users\\anjal\\anaconda3\\lib\\site-packages\\google\\cloud\\bigquery\\table.py:2532: UserWarning: Unable to represent RANGE schema as struct using pandas ArrowDtype. Using `object` instead. To use ArrowDtype, use pandas >= 1.5 and pyarrow >= 10.0.1.\n",
      "  warnings.warn(_RANGE_PYARROW_WARNING)\n",
      "C:\\Users\\anjal\\anaconda3\\lib\\site-packages\\google\\cloud\\bigquery\\table.py:2546: UserWarning: Unable to represent RANGE schema as struct using pandas ArrowDtype. Using `object` instead. To use ArrowDtype, use pandas >= 1.5 and pyarrow >= 10.0.1.\n",
      "  warnings.warn(_RANGE_PYARROW_WARNING)\n"
     ]
    }
   ],
   "source": [
    "# Load the data \n",
    "df_orders = pd.read_gbq('SELECT * FROM concise-faculty-452613-a1.brazil_e_commerce.fact_orders_star', project_id='concise-faculty-452613-a1')\n",
    "df_order_items = pd.read_gbq('SELECT * FROM concise-faculty-452613-a1.brazil_e_commerce.dim_order_items_star', project_id='concise-faculty-452613-a1')\n",
    "df_payments = pd.read_gbq('SELECT * FROM concise-faculty-452613-a1.brazil_e_commerce.dim_payments_star', project_id='concise-faculty-452613-a1')\n",
    "df_customers = pd.read_gbq('SELECT * FROM concise-faculty-452613-a1.brazil_e_commerce.dim_customers_star', project_id='concise-faculty-452613-a1')"
   ]
  },
  {
   "cell_type": "markdown",
   "id": "8b19007b",
   "metadata": {},
   "source": [
    "## Data Cleaning and Preprocessing "
   ]
  },
  {
   "cell_type": "code",
   "execution_count": 32,
   "id": "38c79f3b",
   "metadata": {},
   "outputs": [],
   "source": [
    "# Convert the datetime columns to datetime dtype\n",
    "df_orders['order_purchase_timestamp'] = pd.to_datetime(df_orders['order_purchase_timestamp'], errors='coerce')\n",
    "df_orders['order_delivered_customer_date'] = pd.to_datetime(df_orders['order_delivered_customer_date'], errors='coerce')\n",
    "\n",
    "# Calculate the delivery time in days\n",
    "df_orders['delivery_time_days'] = (df_orders['order_delivered_customer_date'] - df_orders['order_purchase_timestamp']).dt.days\n",
    "\n",
    "# Handle NaN values in 'delivery_time_days' by filling them with a default value \n",
    "df_orders['delivery_time_days'] = df_orders['delivery_time_days'].fillna(0).astype(int)"
   ]
  },
  {
   "cell_type": "code",
   "execution_count": 33,
   "id": "02533912",
   "metadata": {},
   "outputs": [],
   "source": [
    "# Merging the data\n",
    "df = pd.merge(df_orders, df_order_items[['order_id', 'price', 'freight_value', 'product_category_name_english']], on='order_id', how='left')\n",
    "df = pd.merge(df, df_payments[['order_id', 'payment_type']], on='order_id', how='left')\n",
    "df = pd.merge(df, df_customers[['customer_id', 'customer_city', 'customer_state']], on='customer_id', how='left')"
   ]
  },
  {
   "cell_type": "code",
   "execution_count": 34,
   "id": "d9636494",
   "metadata": {},
   "outputs": [],
   "source": [
    "# New column added to store month of the order\n",
    "df['order_month'] = df['order_purchase_timestamp'].dt.month"
   ]
  },
  {
   "cell_type": "code",
   "execution_count": 36,
   "id": "487c4f67",
   "metadata": {},
   "outputs": [
    {
     "data": {
      "text/html": [
       "<div>\n",
       "<style scoped>\n",
       "    .dataframe tbody tr th:only-of-type {\n",
       "        vertical-align: middle;\n",
       "    }\n",
       "\n",
       "    .dataframe tbody tr th {\n",
       "        vertical-align: top;\n",
       "    }\n",
       "\n",
       "    .dataframe thead th {\n",
       "        text-align: right;\n",
       "    }\n",
       "</style>\n",
       "<table border=\"1\" class=\"dataframe\">\n",
       "  <thead>\n",
       "    <tr style=\"text-align: right;\">\n",
       "      <th></th>\n",
       "      <th>order_id</th>\n",
       "      <th>customer_id</th>\n",
       "      <th>order_status</th>\n",
       "      <th>order_purchase_timestamp</th>\n",
       "      <th>order_delivered_carrier_date</th>\n",
       "      <th>order_delivered_customer_date</th>\n",
       "      <th>order_estimated_delivery_date</th>\n",
       "      <th>total_order_value</th>\n",
       "      <th>delivery_time_days</th>\n",
       "      <th>price</th>\n",
       "      <th>freight_value</th>\n",
       "      <th>product_category_name_english</th>\n",
       "      <th>customer_city</th>\n",
       "      <th>customer_state</th>\n",
       "      <th>order_month</th>\n",
       "      <th>payment_type_credit_card</th>\n",
       "      <th>payment_type_debit_card</th>\n",
       "      <th>payment_type_voucher</th>\n",
       "    </tr>\n",
       "  </thead>\n",
       "  <tbody>\n",
       "    <tr>\n",
       "      <th>0</th>\n",
       "      <td>a2e4c44360b4a57bdff22f3a4630c173</td>\n",
       "      <td>8886130db0ea6e9e70ba0b03d7c0d286</td>\n",
       "      <td>approved</td>\n",
       "      <td>2017-02-06 20:18:17+00:00</td>\n",
       "      <td>NaT</td>\n",
       "      <td>NaT</td>\n",
       "      <td>2017-03-01 00:00:00+00:00</td>\n",
       "      <td>61.62</td>\n",
       "      <td>0</td>\n",
       "      <td>19.85</td>\n",
       "      <td>10.96</td>\n",
       "      <td>computers_accessories</td>\n",
       "      <td>lagoa da prata</td>\n",
       "      <td>MG</td>\n",
       "      <td>2</td>\n",
       "      <td>1</td>\n",
       "      <td>0</td>\n",
       "      <td>0</td>\n",
       "    </tr>\n",
       "    <tr>\n",
       "      <th>1</th>\n",
       "      <td>a2e4c44360b4a57bdff22f3a4630c173</td>\n",
       "      <td>8886130db0ea6e9e70ba0b03d7c0d286</td>\n",
       "      <td>approved</td>\n",
       "      <td>2017-02-06 20:18:17+00:00</td>\n",
       "      <td>NaT</td>\n",
       "      <td>NaT</td>\n",
       "      <td>2017-03-01 00:00:00+00:00</td>\n",
       "      <td>61.62</td>\n",
       "      <td>0</td>\n",
       "      <td>19.85</td>\n",
       "      <td>10.96</td>\n",
       "      <td>computers_accessories</td>\n",
       "      <td>lagoa da prata</td>\n",
       "      <td>MG</td>\n",
       "      <td>2</td>\n",
       "      <td>1</td>\n",
       "      <td>0</td>\n",
       "      <td>0</td>\n",
       "    </tr>\n",
       "    <tr>\n",
       "      <th>2</th>\n",
       "      <td>132f1e724165a07f6362532bfb97486e</td>\n",
       "      <td>b2191912d8ad6eac2e4dc3b6e1459515</td>\n",
       "      <td>approved</td>\n",
       "      <td>2017-04-25 01:25:34+00:00</td>\n",
       "      <td>NaT</td>\n",
       "      <td>NaT</td>\n",
       "      <td>2017-05-22 00:00:00+00:00</td>\n",
       "      <td>179.46</td>\n",
       "      <td>0</td>\n",
       "      <td>169.90</td>\n",
       "      <td>9.56</td>\n",
       "      <td>housewares</td>\n",
       "      <td>sao paulo</td>\n",
       "      <td>SP</td>\n",
       "      <td>4</td>\n",
       "      <td>1</td>\n",
       "      <td>0</td>\n",
       "      <td>0</td>\n",
       "    </tr>\n",
       "    <tr>\n",
       "      <th>3</th>\n",
       "      <td>71303d7e93b399f5bcd537d124c0bcfa</td>\n",
       "      <td>b106b360fe2ef8849fbbd056f777b4d5</td>\n",
       "      <td>canceled</td>\n",
       "      <td>2016-10-02 22:07:52+00:00</td>\n",
       "      <td>NaT</td>\n",
       "      <td>NaT</td>\n",
       "      <td>2016-10-25 00:00:00+00:00</td>\n",
       "      <td>109.34</td>\n",
       "      <td>0</td>\n",
       "      <td>100.00</td>\n",
       "      <td>9.34</td>\n",
       "      <td>baby</td>\n",
       "      <td>sao paulo</td>\n",
       "      <td>SP</td>\n",
       "      <td>10</td>\n",
       "      <td>1</td>\n",
       "      <td>0</td>\n",
       "      <td>0</td>\n",
       "    </tr>\n",
       "    <tr>\n",
       "      <th>4</th>\n",
       "      <td>e5fa5a7210941f7d56d0208e4e071d35</td>\n",
       "      <td>683c54fc24d40ee9f8a6fc179fd9856c</td>\n",
       "      <td>canceled</td>\n",
       "      <td>2016-09-05 00:15:34+00:00</td>\n",
       "      <td>NaT</td>\n",
       "      <td>NaT</td>\n",
       "      <td>2016-10-28 00:00:00+00:00</td>\n",
       "      <td>75.06</td>\n",
       "      <td>0</td>\n",
       "      <td>59.50</td>\n",
       "      <td>15.56</td>\n",
       "      <td>telephony</td>\n",
       "      <td>passo fundo</td>\n",
       "      <td>RS</td>\n",
       "      <td>9</td>\n",
       "      <td>1</td>\n",
       "      <td>0</td>\n",
       "      <td>0</td>\n",
       "    </tr>\n",
       "    <tr>\n",
       "      <th>...</th>\n",
       "      <td>...</td>\n",
       "      <td>...</td>\n",
       "      <td>...</td>\n",
       "      <td>...</td>\n",
       "      <td>...</td>\n",
       "      <td>...</td>\n",
       "      <td>...</td>\n",
       "      <td>...</td>\n",
       "      <td>...</td>\n",
       "      <td>...</td>\n",
       "      <td>...</td>\n",
       "      <td>...</td>\n",
       "      <td>...</td>\n",
       "      <td>...</td>\n",
       "      <td>...</td>\n",
       "      <td>...</td>\n",
       "      <td>...</td>\n",
       "      <td>...</td>\n",
       "    </tr>\n",
       "    <tr>\n",
       "      <th>117599</th>\n",
       "      <td>2fd1c83dd4714cf3cf796fffb6c8de62</td>\n",
       "      <td>7f51c513004ef3f35e834c142f286778</td>\n",
       "      <td>unavailable</td>\n",
       "      <td>2016-10-05 17:21:29+00:00</td>\n",
       "      <td>NaT</td>\n",
       "      <td>NaT</td>\n",
       "      <td>2016-11-29 00:00:00+00:00</td>\n",
       "      <td>192.19</td>\n",
       "      <td>0</td>\n",
       "      <td>59.99</td>\n",
       "      <td>24.08</td>\n",
       "      <td>baby</td>\n",
       "      <td>belo horizonte</td>\n",
       "      <td>MG</td>\n",
       "      <td>10</td>\n",
       "      <td>1</td>\n",
       "      <td>0</td>\n",
       "      <td>0</td>\n",
       "    </tr>\n",
       "    <tr>\n",
       "      <th>117600</th>\n",
       "      <td>2fd1c83dd4714cf3cf796fffb6c8de62</td>\n",
       "      <td>7f51c513004ef3f35e834c142f286778</td>\n",
       "      <td>unavailable</td>\n",
       "      <td>2016-10-05 17:21:29+00:00</td>\n",
       "      <td>NaT</td>\n",
       "      <td>NaT</td>\n",
       "      <td>2016-11-29 00:00:00+00:00</td>\n",
       "      <td>192.19</td>\n",
       "      <td>0</td>\n",
       "      <td>99.00</td>\n",
       "      <td>9.12</td>\n",
       "      <td>baby</td>\n",
       "      <td>belo horizonte</td>\n",
       "      <td>MG</td>\n",
       "      <td>10</td>\n",
       "      <td>1</td>\n",
       "      <td>0</td>\n",
       "      <td>0</td>\n",
       "    </tr>\n",
       "    <tr>\n",
       "      <th>117601</th>\n",
       "      <td>3c3ca08854ca922fe8e9cedfd6841c8a</td>\n",
       "      <td>88c36fbd3df96094f90f0315e1d2dd90</td>\n",
       "      <td>unavailable</td>\n",
       "      <td>2016-10-08 12:13:38+00:00</td>\n",
       "      <td>NaT</td>\n",
       "      <td>NaT</td>\n",
       "      <td>2016-11-30 00:00:00+00:00</td>\n",
       "      <td>45.96</td>\n",
       "      <td>0</td>\n",
       "      <td>35.00</td>\n",
       "      <td>10.96</td>\n",
       "      <td>auto</td>\n",
       "      <td>suzano</td>\n",
       "      <td>SP</td>\n",
       "      <td>10</td>\n",
       "      <td>1</td>\n",
       "      <td>0</td>\n",
       "      <td>0</td>\n",
       "    </tr>\n",
       "    <tr>\n",
       "      <th>117602</th>\n",
       "      <td>1a47da1d66c70489c8e35fe2b5433ab7</td>\n",
       "      <td>3d8e326c3cef3a9bba7ca121baac5fc3</td>\n",
       "      <td>unavailable</td>\n",
       "      <td>2016-10-07 18:16:31+00:00</td>\n",
       "      <td>NaT</td>\n",
       "      <td>NaT</td>\n",
       "      <td>2016-12-07 00:00:00+00:00</td>\n",
       "      <td>270.75</td>\n",
       "      <td>0</td>\n",
       "      <td>249.90</td>\n",
       "      <td>20.85</td>\n",
       "      <td>perfumery</td>\n",
       "      <td>porto alegre</td>\n",
       "      <td>RS</td>\n",
       "      <td>10</td>\n",
       "      <td>1</td>\n",
       "      <td>0</td>\n",
       "      <td>0</td>\n",
       "    </tr>\n",
       "    <tr>\n",
       "      <th>117603</th>\n",
       "      <td>54bb06e1ca86bd99ee2a8d6288bf4ede</td>\n",
       "      <td>98bfbf477ed9f40a0264f5e527a446be</td>\n",
       "      <td>unavailable</td>\n",
       "      <td>2016-10-06 13:38:39+00:00</td>\n",
       "      <td>NaT</td>\n",
       "      <td>NaT</td>\n",
       "      <td>2016-12-12 00:00:00+00:00</td>\n",
       "      <td>90.23</td>\n",
       "      <td>0</td>\n",
       "      <td>64.90</td>\n",
       "      <td>25.33</td>\n",
       "      <td>cool_stuff</td>\n",
       "      <td>aracariguama</td>\n",
       "      <td>SP</td>\n",
       "      <td>10</td>\n",
       "      <td>1</td>\n",
       "      <td>0</td>\n",
       "      <td>0</td>\n",
       "    </tr>\n",
       "  </tbody>\n",
       "</table>\n",
       "<p>117604 rows × 18 columns</p>\n",
       "</div>"
      ],
      "text/plain": [
       "                                order_id                       customer_id  \\\n",
       "0       a2e4c44360b4a57bdff22f3a4630c173  8886130db0ea6e9e70ba0b03d7c0d286   \n",
       "1       a2e4c44360b4a57bdff22f3a4630c173  8886130db0ea6e9e70ba0b03d7c0d286   \n",
       "2       132f1e724165a07f6362532bfb97486e  b2191912d8ad6eac2e4dc3b6e1459515   \n",
       "3       71303d7e93b399f5bcd537d124c0bcfa  b106b360fe2ef8849fbbd056f777b4d5   \n",
       "4       e5fa5a7210941f7d56d0208e4e071d35  683c54fc24d40ee9f8a6fc179fd9856c   \n",
       "...                                  ...                               ...   \n",
       "117599  2fd1c83dd4714cf3cf796fffb6c8de62  7f51c513004ef3f35e834c142f286778   \n",
       "117600  2fd1c83dd4714cf3cf796fffb6c8de62  7f51c513004ef3f35e834c142f286778   \n",
       "117601  3c3ca08854ca922fe8e9cedfd6841c8a  88c36fbd3df96094f90f0315e1d2dd90   \n",
       "117602  1a47da1d66c70489c8e35fe2b5433ab7  3d8e326c3cef3a9bba7ca121baac5fc3   \n",
       "117603  54bb06e1ca86bd99ee2a8d6288bf4ede  98bfbf477ed9f40a0264f5e527a446be   \n",
       "\n",
       "       order_status  order_purchase_timestamp order_delivered_carrier_date  \\\n",
       "0          approved 2017-02-06 20:18:17+00:00                          NaT   \n",
       "1          approved 2017-02-06 20:18:17+00:00                          NaT   \n",
       "2          approved 2017-04-25 01:25:34+00:00                          NaT   \n",
       "3          canceled 2016-10-02 22:07:52+00:00                          NaT   \n",
       "4          canceled 2016-09-05 00:15:34+00:00                          NaT   \n",
       "...             ...                       ...                          ...   \n",
       "117599  unavailable 2016-10-05 17:21:29+00:00                          NaT   \n",
       "117600  unavailable 2016-10-05 17:21:29+00:00                          NaT   \n",
       "117601  unavailable 2016-10-08 12:13:38+00:00                          NaT   \n",
       "117602  unavailable 2016-10-07 18:16:31+00:00                          NaT   \n",
       "117603  unavailable 2016-10-06 13:38:39+00:00                          NaT   \n",
       "\n",
       "       order_delivered_customer_date order_estimated_delivery_date  \\\n",
       "0                                NaT     2017-03-01 00:00:00+00:00   \n",
       "1                                NaT     2017-03-01 00:00:00+00:00   \n",
       "2                                NaT     2017-05-22 00:00:00+00:00   \n",
       "3                                NaT     2016-10-25 00:00:00+00:00   \n",
       "4                                NaT     2016-10-28 00:00:00+00:00   \n",
       "...                              ...                           ...   \n",
       "117599                           NaT     2016-11-29 00:00:00+00:00   \n",
       "117600                           NaT     2016-11-29 00:00:00+00:00   \n",
       "117601                           NaT     2016-11-30 00:00:00+00:00   \n",
       "117602                           NaT     2016-12-07 00:00:00+00:00   \n",
       "117603                           NaT     2016-12-12 00:00:00+00:00   \n",
       "\n",
       "        total_order_value  delivery_time_days   price  freight_value  \\\n",
       "0                   61.62                   0   19.85          10.96   \n",
       "1                   61.62                   0   19.85          10.96   \n",
       "2                  179.46                   0  169.90           9.56   \n",
       "3                  109.34                   0  100.00           9.34   \n",
       "4                   75.06                   0   59.50          15.56   \n",
       "...                   ...                 ...     ...            ...   \n",
       "117599             192.19                   0   59.99          24.08   \n",
       "117600             192.19                   0   99.00           9.12   \n",
       "117601              45.96                   0   35.00          10.96   \n",
       "117602             270.75                   0  249.90          20.85   \n",
       "117603              90.23                   0   64.90          25.33   \n",
       "\n",
       "       product_category_name_english   customer_city customer_state  \\\n",
       "0              computers_accessories  lagoa da prata             MG   \n",
       "1              computers_accessories  lagoa da prata             MG   \n",
       "2                         housewares       sao paulo             SP   \n",
       "3                               baby       sao paulo             SP   \n",
       "4                          telephony     passo fundo             RS   \n",
       "...                              ...             ...            ...   \n",
       "117599                          baby  belo horizonte             MG   \n",
       "117600                          baby  belo horizonte             MG   \n",
       "117601                          auto          suzano             SP   \n",
       "117602                     perfumery    porto alegre             RS   \n",
       "117603                    cool_stuff    aracariguama             SP   \n",
       "\n",
       "        order_month  payment_type_credit_card  payment_type_debit_card  \\\n",
       "0                 2                         1                        0   \n",
       "1                 2                         1                        0   \n",
       "2                 4                         1                        0   \n",
       "3                10                         1                        0   \n",
       "4                 9                         1                        0   \n",
       "...             ...                       ...                      ...   \n",
       "117599           10                         1                        0   \n",
       "117600           10                         1                        0   \n",
       "117601           10                         1                        0   \n",
       "117602           10                         1                        0   \n",
       "117603           10                         1                        0   \n",
       "\n",
       "        payment_type_voucher  \n",
       "0                          0  \n",
       "1                          0  \n",
       "2                          0  \n",
       "3                          0  \n",
       "4                          0  \n",
       "...                      ...  \n",
       "117599                     0  \n",
       "117600                     0  \n",
       "117601                     0  \n",
       "117602                     0  \n",
       "117603                     0  \n",
       "\n",
       "[117604 rows x 18 columns]"
      ]
     },
     "execution_count": 36,
     "metadata": {},
     "output_type": "execute_result"
    }
   ],
   "source": [
    "df_original = df.copy()  # Create a backup\n",
    "df = pd.get_dummies(df, columns=['payment_type'], drop_first=True)\n",
    "df"
   ]
  },
  {
   "cell_type": "markdown",
   "id": "8f3cda91",
   "metadata": {},
   "source": [
    "## Correlation Analysis"
   ]
  },
  {
   "cell_type": "markdown",
   "id": "e3ee7067",
   "metadata": {},
   "source": [
    "#### Freight Value, Total Order Value, Price, Payment type"
   ]
  },
  {
   "cell_type": "code",
   "execution_count": 27,
   "id": "46b4a229",
   "metadata": {},
   "outputs": [
    {
     "name": "stdout",
     "output_type": "stream",
     "text": [
      "delivery_time_days          1.000000\n",
      "freight_value               0.201417\n",
      "total_order_value           0.056452\n",
      "price                       0.054286\n",
      "payment_type_voucher        0.002429\n",
      "payment_type_debit_card    -0.021793\n",
      "payment_type_credit_card   -0.038953\n",
      "order_month                -0.052159\n",
      "Name: delivery_time_days, dtype: float64\n"
     ]
    }
   ],
   "source": [
    "# Convert the 'payment_type' column into dummy variables for each category\n",
    "# This transforms the  column (which contains categorical values into numerical dummy variables that represent each category.\n",
    "df = pd.get_dummies(df, columns=['payment_type'], drop_first=True)\n",
    "# Compute correlation matrix for numerical columns\n",
    "correlation_matrix = df.corr()\n",
    "\n",
    "# Display correlation with 'delivery_time_days'\n",
    "correlation_with_delivery_time = correlation_matrix['delivery_time_days'].sort_values(ascending=False)\n",
    "print(correlation_with_delivery_time)"
   ]
  },
  {
   "cell_type": "code",
   "execution_count": 21,
   "id": "c47d9b4e",
   "metadata": {},
   "outputs": [
    {
     "data": {
      "image/png": "[encoded data removed]",
      "text/plain": [
       "<Figure size 864x576 with 2 Axes>"
      ]
     },
     "metadata": {
      "needs_background": "light"
     },
     "output_type": "display_data"
    }
   ],
   "source": [
    "# Correlation heatmap\n",
    "correlation_matrix = df.corr()\n",
    "plt.figure(figsize=(12, 8))\n",
    "sns.heatmap(correlation_matrix, annot=True, cmap='coolwarm')\n",
    "plt.title('Correlation Heatmap')\n",
    "plt.show()"
   ]
  },
  {
   "cell_type": "markdown",
   "id": "44c84396",
   "metadata": {},
   "source": [
    "Freight Value: The correlation is 0.201417, suggesting a positive relationship between freight costs and delivery time. Orders with higher freight values might take slightly longer to deliver."
   ]
  },
  {
   "cell_type": "markdown",
   "id": "3ae7c238",
   "metadata": {},
   "source": [
    "#### Customer states"
   ]
  },
  {
   "cell_type": "code",
   "execution_count": 18,
   "id": "fef78c78",
   "metadata": {
    "scrolled": true
   },
   "outputs": [
    {
     "name": "stdout",
     "output_type": "stream",
     "text": [
      "Top 10 States with Highest Correlation:\n",
      "customer_state_BA    0.127292\n",
      "customer_state_PA    0.112645\n",
      "customer_state_RJ    0.104589\n",
      "customer_state_CE    0.096113\n",
      "customer_state_MA    0.078974\n",
      "customer_state_AL    0.075429\n",
      "customer_state_PE    0.073309\n",
      "customer_state_RS    0.068532\n",
      "customer_state_PB    0.061065\n",
      "customer_state_AM    0.056265\n",
      "Name: delivery_time_days, dtype: float64\n"
     ]
    }
   ],
   "source": [
    "# Converts the categorical column into multiple binary columns, where each column represents a unique state in the dataset.\n",
    "df_state = pd.get_dummies(df, columns=['customer_state'], drop_first=True)\n",
    "# Compute correlation matrix for numerical columns\n",
    "correlation_matrix = df_state.corr()\n",
    "\n",
    "# Display correlation with 'delivery_time_days'\n",
    "correlation_with_delivery_time_state = correlation_matrix['delivery_time_days'].sort_values(ascending=False)\n",
    "#(correlation_with_delivery_time)\n",
    "\n",
    "# Filter only the columns for customer states (those starting with 'customer_state_')\n",
    "state_columns = [col for col in correlation_with_delivery_time_state.index if col.startswith('customer_state_')]\n",
    "\n",
    "# Extract correlations for customer states only\n",
    "state_correlations = correlation_with_delivery_time_state[state_columns]\n",
    "\n",
    "# Sort the correlations in descending order\n",
    "sorted_state_correlations = state_correlations.sort_values(ascending=False)\n",
    "\n",
    "# Display the sorted correlations for states\n",
    "#print(sorted_state_correlations)\n",
    "\n",
    "# Get top 10 states with the highest correlation\n",
    "top_10_states_highest = state_correlations.sort_values(ascending=False).head(10)\n",
    "\n",
    "# Get top 10 states with the lowest correlation\n",
    "top_10_states_lowest = state_correlations.sort_values(ascending=True).head(10)\n",
    "\n",
    "# Display results\n",
    "print(\"Top 10 States with Highest Correlation:\")\n",
    "print(top_10_states_highest)\n"
   ]
  },
  {
   "cell_type": "markdown",
   "id": "cb2dd822",
   "metadata": {},
   "source": [
    "Bahia (BA) (0.127292): Orders to Bahia have the highest positive correlation with delivery time, indicating that deliveries to this state tend to take longer. Pará (PA) (0.112645) and Rio de Janeiro (RJ) (0.104589) also show relatively strong positive correlations, suggesting extended delivery times compared to other states."
   ]
  },
  {
   "cell_type": "code",
   "execution_count": 19,
   "id": "88703bf2",
   "metadata": {},
   "outputs": [
    {
     "name": "stdout",
     "output_type": "stream",
     "text": [
      "\n",
      "Top 10 States with Lowest Correlation:\n",
      "customer_state_SP   -0.328215\n",
      "customer_state_MG   -0.016921\n",
      "customer_state_PR   -0.010241\n",
      "customer_state_DF    0.006923\n",
      "customer_state_TO    0.026327\n",
      "customer_state_MS    0.028128\n",
      "customer_state_RR    0.028405\n",
      "customer_state_RO    0.037036\n",
      "customer_state_GO    0.042954\n",
      "customer_state_AP    0.043739\n",
      "Name: delivery_time_days, dtype: float64\n"
     ]
    }
   ],
   "source": [
    "print(\"\\nTop 10 States with Lowest Correlation:\")\n",
    "print(top_10_states_lowest)\n"
   ]
  },
  {
   "cell_type": "markdown",
   "id": "a1d30857",
   "metadata": {},
   "source": [
    "São Paulo stands out with a notable negative correlation, indicating significantly shorter delivery times compared to other states. This may reflect better infrastructure or proximity to distribution centers."
   ]
  },
  {
   "cell_type": "markdown",
   "id": "c8720588",
   "metadata": {},
   "source": [
    "#### Product categories"
   ]
  },
  {
   "cell_type": "code",
   "execution_count": 46,
   "id": "c5e7c106",
   "metadata": {},
   "outputs": [
    {
     "name": "stdout",
     "output_type": "stream",
     "text": [
      "product_category_name_english_office_furniture         0.109970\n",
      "product_category_name_english_garden_tools             0.025244\n",
      "product_category_name_english_computers_accessories    0.021086\n",
      "product_category_name_english_fashion_shoes            0.013979\n",
      "product_category_name_english_bed_bath_table           0.013758\n",
      "product_category_name_english_christmas_supplies       0.012325\n",
      "product_category_name_english_furniture_living_room    0.010839\n",
      "product_category_name_english_furniture_decor          0.010794\n",
      "product_category_name_english_consoles_games           0.008461\n",
      "product_category_name_english_electronics              0.008421\n",
      "Name: delivery_time_days, dtype: float64\n"
     ]
    }
   ],
   "source": [
    "# Converts the categorical column into multiple binary columns, where each column represents a unique state in the dataset.\n",
    "df_product = pd.get_dummies(df_original, columns=['product_category_name_english'], drop_first=True)\n",
    "# Compute correlation matrix for numerical columns\n",
    "correlation_matrix = df_product.corr()\n",
    "\n",
    "# Display correlation with 'delivery_time_days'\n",
    "correlation_with_delivery_time = correlation_matrix['delivery_time_days'].sort_values(ascending=False)\n",
    "#(correlation_with_delivery_time)\n",
    "\n",
    "# Filter product category columns only\n",
    "product_category_columns = [col for col in correlation_with_delivery_time.index if col.startswith('product_category_name_english')]\n",
    "\n",
    "# Extract correlations for product categories\n",
    "product_category_correlations = correlation_with_delivery_time[product_category_columns]\n",
    "\n",
    "# Sort correlations in descending order\n",
    "sorted_product_category_correlations = product_category_correlations.sort_values(ascending=False)\n",
    "\n",
    "# Display the correlations\n",
    "#print(sorted_product_category_correlations)\n",
    "\n",
    "# Display the top 10 product categories with the highest correlations\n",
    "top_10_categories = product_category_correlations.sort_values(ascending=False).head(10)\n",
    "print(top_10_categories)\n",
    "\n"
   ]
  },
  {
   "cell_type": "markdown",
   "id": "f266da0b",
   "metadata": {},
   "source": [
    "Office furniture has the strongest positive correlation with delivery time, suggesting that orders for this category might tend to experience longer delivery times. Garden tools show a slight positive correlation, indicating slightly longer delivery times for orders in this category."
   ]
  },
  {
   "cell_type": "code",
   "execution_count": 45,
   "id": "fad47fcb",
   "metadata": {},
   "outputs": [
    {
     "name": "stdout",
     "output_type": "stream",
     "text": [
      "product_category_name_english_housewares                        -0.040705\n",
      "product_category_name_english_food                              -0.019931\n",
      "product_category_name_english_fashion_bags_accessories          -0.017383\n",
      "product_category_name_english_luggage_accessories               -0.016943\n",
      "product_category_name_english_construction_tools_construction   -0.016173\n",
      "product_category_name_english_toys                              -0.015579\n",
      "product_category_name_english_pet_shop                          -0.015326\n",
      "product_category_name_english_health_beauty                     -0.014889\n",
      "product_category_name_english_construction_tools_lights         -0.014455\n",
      "product_category_name_english_drinks                            -0.013759\n",
      "Name: delivery_time_days, dtype: float64\n"
     ]
    }
   ],
   "source": [
    "# Display the bottom 10 product categories with the lowest correlations\n",
    "bottom_10_categories = product_category_correlations.sort_values(ascending=True).head(10)\n",
    "print(bottom_10_categories)\n"
   ]
  },
  {
   "cell_type": "markdown",
   "id": "1f359d4c",
   "metadata": {},
   "source": [
    "Housewares have the strongest negative correlation, suggesting that orders for this category may experience slightly faster delivery times compared to others. Food-related orders are also somewhat negatively correlated, implying shorter delivery times."
   ]
  },
  {
   "cell_type": "markdown",
   "id": "272cdf5e",
   "metadata": {},
   "source": [
    "#### Month of the year"
   ]
  },
  {
   "cell_type": "code",
   "execution_count": 47,
   "id": "001d007c",
   "metadata": {},
   "outputs": [
    {
     "name": "stdout",
     "output_type": "stream",
     "text": [
      "order_month\n",
      "1     13.169843\n",
      "2     15.275641\n",
      "3     14.330064\n",
      "4     11.453401\n",
      "5     10.674566\n",
      "6      9.537105\n",
      "7      9.254375\n",
      "8      8.379829\n",
      "9     11.340580\n",
      "10    11.422450\n",
      "11    14.194987\n",
      "12    14.541660\n",
      "Name: delivery_time_days, dtype: float64\n"
     ]
    }
   ],
   "source": [
    "# Group by 'order_month' and calculate the mean delivery time for each month\n",
    "monthly_delivery_mean = df.groupby('order_month')['delivery_time_days'].mean()\n",
    "\n",
    "# Display the mean delivery time for each month\n",
    "print(monthly_delivery_mean)\n"
   ]
  },
  {
   "cell_type": "markdown",
   "id": "de9c8b17",
   "metadata": {},
   "source": [
    "February (Month 2) has the longest average delivery time at 15.28 days. Other months with long average delivery times include March (14.33 days), November (14.19 days), and December (14.54 days), likely reflecting possible delays due to seasonal or logistical factors (e.g., holidays).\n",
    "\n",
    "August (Month 8) shows the shortest average delivery time at 8.38 days. July and June also have relatively short delivery times at 9.25 days and 9.54 days, respectively.\n"
   ]
  },
  {
   "cell_type": "code",
   "execution_count": 48,
   "id": "c367e4f1",
   "metadata": {},
   "outputs": [
    {
     "data": {
      "image/png": "[encoded data removed]",
      "text/plain": [
       "<Figure size 576x576 with 1 Axes>"
      ]
     },
     "metadata": {},
     "output_type": "display_data"
    }
   ],
   "source": [
    "# Pie chart for average delivery times by month\n",
    "monthly_delivery_mean.plot(\n",
    "    kind='pie',\n",
    "    autopct='%1.1f%%',  # Show percentage values\n",
    "    figsize=(8, 8),      # Adjust the size\n",
    "    colors=['lightblue', 'lightgreen', 'gold', 'orange', 'pink', 'purple', 'cyan', 'red', 'teal', 'gray', 'lime', 'magenta']\n",
    ")\n",
    "plt.title('Average Delivery Time by Order Month')\n",
    "plt.ylabel('')  # Hide y-axis label for better appearance\n",
    "plt.show()\n"
   ]
  },
  {
   "cell_type": "markdown",
   "id": "5dab8ffc",
   "metadata": {},
   "source": [
    "#### Overall Delivery Performance"
   ]
  },
  {
   "cell_type": "code",
   "execution_count": 49,
   "id": "37e2228e",
   "metadata": {},
   "outputs": [
    {
     "name": "stdout",
     "output_type": "stream",
     "text": [
      "Average_Delivery_Time: 11.83\n",
      "Median_Delivery_Time: 10.00\n",
      "On_Time_Percentage: N/A\n",
      "Total_Orders: 98666.00\n",
      "Standard_Deviation_Delivery_Time: 9.61\n"
     ]
    }
   ],
   "source": [
    "# Calculate overall performance metrics\n",
    "overall_delivery_performance = {\n",
    "    'Average_Delivery_Time': df_orders['delivery_time_days'].mean(),\n",
    "    'Median_Delivery_Time': df_orders['delivery_time_days'].median(),\n",
    "    'On_Time_Percentage': (df_orders['on_time'].mean() * 100) if 'on_time' in df_orders else 'N/A',\n",
    "    'Total_Orders': len(df_orders),\n",
    "    'Standard_Deviation_Delivery_Time': df_orders['delivery_time_days'].std()\n",
    "}\n",
    "\n",
    "for metric, value in overall_delivery_performance.items():\n",
    "    print(f\"{metric}: {value:.2f}\" if isinstance(value, (int, float)) else f\"{metric}: {value}\")\n"
   ]
  },
  {
   "cell_type": "markdown",
   "id": "3b91e93a",
   "metadata": {},
   "source": [
    "It takes approximately 11.83 days for orders to be delivered. Half of the orders were delivered within 10 days or fewer. No orders were marked as delivered on or before the promised delivery time. 98,666 orders processed in total in two years."
   ]
  },
  {
   "cell_type": "markdown",
   "id": "3a06d304",
   "metadata": {},
   "source": [
    "#### State-wise breakdown"
   ]
  },
  {
   "cell_type": "code",
   "execution_count": 50,
   "id": "bed59dbb",
   "metadata": {},
   "outputs": [
    {
     "name": "stdout",
     "output_type": "stream",
     "text": [
      "   State  Average_Delivery_Time  Median_Delivery_Time  Total_Orders\n",
      "25    SP               8.095887                     7         49569\n",
      "10    MG              11.312069                    10         13638\n",
      "17    PR              11.334955                    10          5962\n",
      "6     DF              12.206632                    11          2473\n",
      "23    SC              14.232218                    12          4302\n",
      "18    RJ              14.329223                    11         15327\n",
      "22    RS              14.457601                    13          6486\n",
      "8     GO              14.572428                    13          2430\n",
      "11    MS              14.908660                    13           843\n",
      "7     ES              15.024380                    13          2338\n",
      "26    TO              16.418879                    15           339\n",
      "12    MT              16.809778                    16          1125\n",
      "15    PE              17.219693                    15          1889\n",
      "4     BA              18.175889                    16          4048\n",
      "16    PI              18.237347                    16           573\n",
      "20    RO              18.898601                    17           286\n",
      "19    RN              18.927944                    16           569\n",
      "14    PB              19.622848                    18           639\n",
      "5     CE              19.672469                    17          1551\n",
      "0     AC              19.957895                    18            95\n",
      "24    SE              20.307305                    17           397\n",
      "9     MA              20.600711                    19           844\n",
      "13    PA              22.714158                    20          1116\n",
      "1     AL              23.242358                    21           458\n",
      "21    RR              24.615385                    21            52\n",
      "2     AM              25.795322                    26           171\n",
      "3     AP              27.333333                    24            84\n"
     ]
    }
   ],
   "source": [
    "# Group by customer_state (or customer_city) and calculate metrics\n",
    "regional_delivery_performance = df.groupby('customer_state').agg({\n",
    "    'delivery_time_days': ['mean', 'median'],  # Average and median delivery time\n",
    "    'order_id': 'count'  # Total number of orders\n",
    "}).reset_index()\n",
    "\n",
    "# Rename columns for readability\n",
    "regional_delivery_performance.columns = ['State', 'Average_Delivery_Time', 'Median_Delivery_Time', 'Total_Orders']\n",
    "\n",
    "#print(regional_delivery_performance)\n",
    "\n",
    "# Sort regional_delivery_performance by Average_Delivery_Time in ascending order\n",
    "regional_delivery_performance_sorted = regional_delivery_performance.sort_values(by='Average_Delivery_Time', ascending=True)\n",
    "\n",
    "# Display the sorted DataFrame\n",
    "print(regional_delivery_performance_sorted)"
   ]
  },
  {
   "cell_type": "code",
   "execution_count": 51,
   "id": "f1b98ddb",
   "metadata": {},
   "outputs": [
    {
     "data": {
      "text/plain": [
       "Text(0, 0.5, 'Average Delivery Time (days)')"
      ]
     },
     "execution_count": 51,
     "metadata": {},
     "output_type": "execute_result"
    },
    {
     "data": {
      "image/png": "[encoded data removed]",
      "text/plain": [
       "<Figure size 720x432 with 1 Axes>"
      ]
     },
     "metadata": {
      "needs_background": "light"
     },
     "output_type": "display_data"
    }
   ],
   "source": [
    "# Scatter plot for average delivery time by state\n",
    "plt.figure(figsize=(10, 6))  # Adjust plot size\n",
    "plt.scatter(\n",
    "    regional_delivery_performance['State'], \n",
    "    regional_delivery_performance['Average_Delivery_Time'], \n",
    "    s=regional_delivery_performance['Total_Orders'] * 0.1,  # Scale size of points\n",
    "    color='orange', \n",
    "    alpha=0.7\n",
    ")\n",
    "plt.title('Scatter Plot: Average Delivery Time by State (Size = Total Orders)')\n",
    "plt.xlabel('State')\n",
    "plt.ylabel('Average Delivery Time (days)')\n",
    "\n"
   ]
  },
  {
   "cell_type": "markdown",
   "id": "f40b79ad",
   "metadata": {},
   "source": [
    "The state Amapá (AP), a state located in the North Region of Brazil have fewer orders, but those few orders take unusually long (leading to a high average).<br>\n",
    "While Bahia (BA) shows a strong correlation with delivery time, it does not have the longest average delivery time. This may be because correlation measures how changes in one variable (delivery time) align with another variable (e.g. state BA ) rather than absolute values. Meanwhile, Amapá's low order volume could skew averages due to outliers with extremely long delivery times."
   ]
  },
  {
   "cell_type": "markdown",
   "id": "e45c6245",
   "metadata": {},
   "source": [
    "#### On-time delivery percentage for each state"
   ]
  },
  {
   "cell_type": "code",
   "execution_count": 52,
   "id": "efca22de",
   "metadata": {},
   "outputs": [
    {
     "name": "stdout",
     "output_type": "stream",
     "text": [
      "customer_state\n",
      "AC     0.000000\n",
      "RO     0.000000\n",
      "PA     0.806452\n",
      "AL     0.873362\n",
      "AP     1.190476\n",
      "SE     1.259446\n",
      "MT     1.511111\n",
      "PI     1.919721\n",
      "RR     1.923077\n",
      "MA     2.014218\n",
      "PB     2.503912\n",
      "TO     2.654867\n",
      "CE     2.836879\n",
      "BA     3.063241\n",
      "PE     3.123346\n",
      "AM     4.093567\n",
      "GO     4.650206\n",
      "RN     5.096661\n",
      "MS     5.100830\n",
      "ES     5.688623\n",
      "RS     9.158187\n",
      "SC    11.971176\n",
      "DF    15.406389\n",
      "RJ    16.324134\n",
      "PR    19.305602\n",
      "MG    19.900279\n",
      "SP    45.786681\n",
      "Name: on_time, dtype: float64\n"
     ]
    }
   ],
   "source": [
    "#df_orders = pd.read_gbq('SELECT * FROM concise-faculty-452613-a1.brazil_e_commerce.customers.fact_orders', project_id='concise-faculty-452613-a1')\n",
    "# Create a column to flag on-time deliveries\n",
    "df['on_time'] = df['order_delivered_customer_date'] <= (df['order_purchase_timestamp'] + pd.Timedelta(days=7))\n",
    "\n",
    "# Calculate on-time delivery percentage by state\n",
    "on_time_delivery = df.groupby('customer_state')['on_time'].mean() * 100\n",
    "on_time_delivery_sorted = on_time_delivery.sort_values(ascending=True)\n",
    "# Display the results\n",
    "print(on_time_delivery_sorted)\n"
   ]
  },
  {
   "cell_type": "code",
   "execution_count": 53,
   "id": "f4228415",
   "metadata": {},
   "outputs": [
    {
     "data": {
      "image/png": "[encoded data removed]",
      "text/plain": [
       "<Figure size 864x432 with 1 Axes>"
      ]
     },
     "metadata": {
      "needs_background": "light"
     },
     "output_type": "display_data"
    }
   ],
   "source": [
    "import matplotlib.pyplot as plt\n",
    "\n",
    "plt.figure(figsize=(12, 6))\n",
    "on_time_delivery_sorted.plot(kind='bar', color='darkgreen', alpha=0.8)\n",
    "plt.title('On-Time Delivery Percentage by State')\n",
    "plt.xlabel('Customer State')\n",
    "plt.ylabel('On-Time Delivery Percentage (%)')\n",
    "plt.xticks(rotation=45)\n",
    "plt.show()\n"
   ]
  },
  {
   "cell_type": "markdown",
   "id": "865678f9",
   "metadata": {},
   "source": [
    "States like São Paulo (SP) with 45.78% have significantly better on-time delivery performance. This is likely due to superior logistics infrastructure and proximity to distribution centers. States like Acre (AC) and Rondônia (RO) have 0% on-time deliveries, indicating severe delays possibly caused by remote locations, poor infrastructure, or logistical challenges."
   ]
  },
  {
   "cell_type": "markdown",
   "id": "e869486a",
   "metadata": {},
   "source": [
    "## Key Insights\n",
    "#### There’s a positive relationship between freight value and delivery time. Orders with higher freight costs tend to take slightly longer to deliver, reflecting the complexity or handling requirements of higher-value shipments.\n",
    "\n",
    "#### States like Bahia, Pará, and Rio de Janeiro, shows the strongest correlation to delivery time. While the state like Amapá, the state of Amazonas, which are located in the north part of the country, likely face logistical challenges such as accessibility, infrastructure, or proximity to warehouses. São Paulo stands out with significantly shorter delivery times due to better infrastructure and proximity to major distribution centers.\n",
    "\n",
    "#### Office furniture shows the strongest positive correlation, suggesting that orders in this category might take longer due to size or shipping requirements. Housewares have the strongest negative correlation, indicating faster deliveries, possibly due to easier stock availability or simpler shipping logistics. Food-related orders also show a minor negative correlation, suggesting quicker deliveries. \n",
    "\n",
    "#### February has the longest average delivery time, followed by March, November, and December. Seasonal peaks, holidays, and higher demand likely contribute to these delays."
   ]
  },
  {
   "cell_type": "markdown",
   "id": "03c9190a",
   "metadata": {},
   "source": [
    "## Proposed Solution"
   ]
  },
  {
   "cell_type": "markdown",
   "id": "d802cc60",
   "metadata": {},
   "source": [
    "#### Expand Warehouse Network: Build smaller, regional warehouses in or near these areas to reduce transit times. Dedicated Logistics for Bulky Items: Use specialized transportation for larger categories like office furniture to minimize delays.Use predictive analytics to stock up on popular items ahead of seasonal peaks.\n"
   ]
  },
  {
   "cell_type": "code",
   "execution_count": null,
   "id": "5b8f5b3e",
   "metadata": {},
   "outputs": [],
   "source": [
    "\n"
   ]
  },
  {
   "cell_type": "code",
   "execution_count": null,
   "id": "7be37957",
   "metadata": {},
   "outputs": [],
   "source": []
  }
 ],
 "metadata": {
  "kernelspec": {
   "display_name": "Python 3",
   "language": "python",
   "name": "python3"
  },
  "language_info": {
   "codemirror_mode": {
    "name": "ipython",
    "version": 3
   },
   "file_extension": ".py",
   "mimetype": "text/x-python",
   "name": "python",
   "nbconvert_exporter": "python",
   "pygments_lexer": "ipython3",
   "version": "3.8.8"
  }
 },
 "nbformat": 4,
 "nbformat_minor": 5
}
