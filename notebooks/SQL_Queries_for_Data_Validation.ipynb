{
 "cells": [
  {
   "cell_type": "markdown",
   "id": "6f47c472",
   "metadata": {},
   "source": [
    "## Data Validation"
   ]
  },
  {
   "cell_type": "markdown",
   "id": "d4a4cb6b",
   "metadata": {},
   "source": [
    "#### Purpose: Ensures that the data is correct, accurate, and meets business or technical rules."
   ]
  },
  {
   "cell_type": "code",
   "execution_count": 26,
   "id": "7acd209b",
   "metadata": {},
   "outputs": [],
   "source": [
    "# Import the BigQuery client library from Google Cloud\n",
    "from google.cloud import bigquery"
   ]
  },
  {
   "cell_type": "code",
   "execution_count": 27,
   "id": "83272145",
   "metadata": {},
   "outputs": [],
   "source": [
    "# Initialize BigQuery client\n",
    "client = bigquery.Client()"
   ]
  },
  {
   "cell_type": "markdown",
   "id": "a940c486",
   "metadata": {},
   "source": [
    "Check for duplicate entries in customers table (key: customer_id)"
   ]
  },
  {
   "cell_type": "code",
   "execution_count": 28,
   "id": "d0ae3d01",
   "metadata": {},
   "outputs": [
    {
     "name": "stdout",
     "output_type": "stream",
     "text": [
      "Null count: 0\n"
     ]
    }
   ],
   "source": [
    "query = \"\"\"\n",
    "SELECT COUNT(*) AS null_count\n",
    "FROM `concise-faculty-452613-a1.brazil_e_commerce.customers`\n",
    "WHERE customer_id IS NULL;\n",
    "\"\"\"\n",
    "\n",
    "# Execute the query\n",
    "query_job = client.query(query)  # Send SQL query to BigQuery\n",
    "results = query_job.result()  # Fetch query results\n",
    "\n",
    "# Print the results\n",
    "for row in results:\n",
    "    print(f\"Null count: {row.null_count}\")"
   ]
  },
  {
   "cell_type": "markdown",
   "id": "35b571d7",
   "metadata": {},
   "source": [
    "Check for data ranges of review score in order_review table"
   ]
  },
  {
   "cell_type": "code",
   "execution_count": 29,
   "id": "83533b3b",
   "metadata": {},
   "outputs": [
    {
     "name": "stdout",
     "output_type": "stream",
     "text": [
      "Row((99224,), {'out_of_range_count': 0})\n"
     ]
    }
   ],
   "source": [
    "query = \"\"\"\n",
    "SELECT COUNT(*) AS out_of_range_count\n",
    "FROM `concise-faculty-452613-a1.brazil_e_commerce.order_reviews`\n",
    "WHERE review_score < 5 OR review_score > 0;\n",
    "\"\"\"\n",
    "query_job = client.query(query)  # Send SQL query to BigQuery\n",
    "results = query_job.result()  # Fetch query results\n",
    "\n",
    "# Print the results\n",
    "for row in results:\n",
    "    print(row)"
   ]
  },
  {
   "cell_type": "markdown",
   "id": "abcced30",
   "metadata": {},
   "source": [
    "Check for duplicate entries in order_items table (composite key: order_id, order_item_id)"
   ]
  },
  {
   "cell_type": "code",
   "execution_count": 17,
   "id": "b3c600ac",
   "metadata": {},
   "outputs": [
    {
     "name": "stdout",
     "output_type": "stream",
     "text": [
      "Total number of duplicate composite keys: 0\n"
     ]
    }
   ],
   "source": [
    "query = \"\"\"\n",
    "SELECT COUNT(*) AS total_duplicate_composite_keys\n",
    "FROM (\n",
    "    SELECT order_id, order_item_id\n",
    "    FROM `concise-faculty-452613-a1.brazil_e_commerce.order_items`\n",
    "    GROUP BY order_id, order_item_id\n",
    "    HAVING COUNT(*) > 1\n",
    ") AS duplicates;\n",
    "\"\"\"\n",
    "\n",
    "query_job = client.query(query)  # Send SQL query to BigQuery\n",
    "results = query_job.result()  # Fetch query results\n",
    "\n",
    "# Print the result\n",
    "for row in results:\n",
    "    print(f\"Total number of duplicate composite keys: {row['total_duplicate_composite_keys']}\")"
   ]
  },
  {
   "cell_type": "markdown",
   "id": "88c29f31",
   "metadata": {},
   "source": [
    "Check for duplicate entries in product table ( key: product_id)"
   ]
  },
  {
   "cell_type": "code",
   "execution_count": 36,
   "id": "68dc5c2c",
   "metadata": {},
   "outputs": [
    {
     "name": "stdout",
     "output_type": "stream",
     "text": [
      "No duplicates found.\n"
     ]
    }
   ],
   "source": [
    "query = \"\"\"\n",
    "SELECT product_id, COUNT(*) AS count\n",
    "FROM `concise-faculty-452613-a1.brazil_e_commerce.products`\n",
    "GROUP BY product_id\n",
    "HAVING COUNT(*) > 1;\n",
    "\"\"\"\n",
    "\n",
    "query_job = client.query(query)  # Send SQL query to BigQuery\n",
    "results = query_job.result()  # Fetch query results\n",
    "\n",
    "if results.total_rows == 0:\n",
    "    print(\"No duplicates found.\")\n",
    "else:\n",
    "    # Print the result if duplicates exist\n",
    "    for row in results:\n",
    "        print(f\"Product ID: {row['product_id']} has {row['count']} duplicates\")"
   ]
  },
  {
   "cell_type": "markdown",
   "id": "14de321f",
   "metadata": {},
   "source": [
    "Check for duplicate entries in order_payments table (composite key: order_id, payment_sequential)"
   ]
  },
  {
   "cell_type": "code",
   "execution_count": 43,
   "id": "09301d4d",
   "metadata": {},
   "outputs": [
    {
     "name": "stdout",
     "output_type": "stream",
     "text": [
      "No duplicates found.\n"
     ]
    }
   ],
   "source": [
    "query = \"\"\"\n",
    "SELECT order_id, payment_sequential, COUNT(*) AS count\n",
    "FROM `concise-faculty-452613-a1.brazil_e_commerce.order_payments`\n",
    "GROUP BY order_id, payment_sequential\n",
    "HAVING COUNT(*) > 1;\n",
    "\"\"\"\n",
    "query_job = client.query(query)  # Send SQL query to BigQuery\n",
    "results = query_job.result()  # Fetch query results\n",
    "\n",
    "if results.total_rows == 0:\n",
    "    print(\"No duplicates found.\")\n",
    "else:\n",
    "    # Print the result if duplicates exist\n",
    "    for row in results:\n",
    "        print(f\"Product ID: {row['product_id']} has {row['count']} duplicates\")"
   ]
  },
  {
   "cell_type": "markdown",
   "id": "09762011",
   "metadata": {},
   "source": [
    "Check for invalid order dates where order_approved_at is greater than order_delivered_customer_date in orders table"
   ]
  },
  {
   "cell_type": "code",
   "execution_count": 38,
   "id": "e250b7a3",
   "metadata": {},
   "outputs": [
    {
     "name": "stdout",
     "output_type": "stream",
     "text": [
      "Total number of invalid dates: 61\n"
     ]
    }
   ],
   "source": [
    "query = \"\"\"\n",
    "SELECT COUNT(*) AS invalid_dates\n",
    "FROM `concise-faculty-452613-a1.brazil_e_commerce.orders`\n",
    "WHERE order_approved_at > order_delivered_customer_date\n",
    "AND order_approved_at IS NOT NULL\n",
    "AND order_delivered_customer_date IS NOT NULL;\n",
    "\"\"\"\n",
    "\n",
    "query_job = client.query(query)  # Send SQL query to BigQuery\n",
    "results = query_job.result()  # Fetch query results\n",
    "\n",
    "# Check if there are results\n",
    "if results.total_rows == 0:\n",
    "    print(\"No invalid dates found.\")\n",
    "else:\n",
    "    # Print the result if invalid dates exist\n",
    "    for row in results:\n",
    "        print(f\"Total number of invalid dates: {row['invalid_dates']}\")"
   ]
  },
  {
   "cell_type": "markdown",
   "id": "67562a49",
   "metadata": {},
   "source": [
    "#### There are 61 records where the order_approved_at date is greater than the order_delivered_customer_date in orders table."
   ]
  },
  {
   "cell_type": "code",
   "execution_count": 39,
   "id": "163375a7",
   "metadata": {},
   "outputs": [
    {
     "name": "stdout",
     "output_type": "stream",
     "text": [
      "Row(('6b80bb20190715d71c43efff617bd659', datetime.datetime(2017, 3, 1, 10, 51, 46), datetime.datetime(2017, 2, 24, 14, 27, 26)), {'order_id': 0, 'order_approved_at': 1, 'order_delivered_customer_date': 2})\n",
      "Row(('f6f0b2497c5a4ca89670186757ab2684', datetime.datetime(2017, 7, 5, 17, 9, 11), datetime.datetime(2017, 7, 3, 17, 53, 29)), {'order_id': 0, 'order_approved_at': 1, 'order_delivered_customer_date': 2})\n",
      "Row(('1fab4ac9d85079b3da72a11475ae1685', datetime.datetime(2017, 9, 13, 22, 6, 11), datetime.datetime(2017, 9, 8, 20, 13, 3)), {'order_id': 0, 'order_approved_at': 1, 'order_delivered_customer_date': 2})\n",
      "Row(('c3b8c17ee15e0e798c2e178b7d4c7f42', datetime.datetime(2017, 9, 13, 22, 8, 55), datetime.datetime(2017, 9, 11, 16, 43, 46)), {'order_id': 0, 'order_approved_at': 1, 'order_delivered_customer_date': 2})\n",
      "Row(('bc4854efd86d9f42140c951c595d20c1', datetime.datetime(2017, 9, 13, 22, 0, 51), datetime.datetime(2017, 9, 6, 22, 15, 45)), {'order_id': 0, 'order_approved_at': 1, 'order_delivered_customer_date': 2})\n",
      "Row(('0184d4ddb259e1a4cfc2871888cf97b8', datetime.datetime(2017, 9, 13, 22, 17, 15), datetime.datetime(2017, 9, 9, 15, 12, 44)), {'order_id': 0, 'order_approved_at': 1, 'order_delivered_customer_date': 2})\n",
      "Row(('cf72398d0690f841271b695bbfda82d2', datetime.datetime(2017, 9, 13, 22, 4, 39), datetime.datetime(2017, 9, 11, 14, 15, 2)), {'order_id': 0, 'order_approved_at': 1, 'order_delivered_customer_date': 2})\n",
      "Row(('70f357cca87c1162357bf3c0a993cbe5', datetime.datetime(2017, 9, 13, 22, 4, 49), datetime.datetime(2017, 9, 12, 16, 53, 41)), {'order_id': 0, 'order_approved_at': 1, 'order_delivered_customer_date': 2})\n",
      "Row(('40de47dfa620d667117e4a6067b6e1ec', datetime.datetime(2017, 9, 13, 21, 58, 38), datetime.datetime(2017, 9, 8, 20, 41, 16)), {'order_id': 0, 'order_approved_at': 1, 'order_delivered_customer_date': 2})\n",
      "Row(('8554cb37f7158cb0b082a841d24a4589', datetime.datetime(2017, 9, 13, 21, 58, 4), datetime.datetime(2017, 9, 8, 20, 7, 45)), {'order_id': 0, 'order_approved_at': 1, 'order_delivered_customer_date': 2})\n",
      "Row(('112b993827414a482ef6534e251fad3a', datetime.datetime(2018, 2, 3, 23, 31, 58), datetime.datetime(2018, 2, 2, 19, 52, 43)), {'order_id': 0, 'order_approved_at': 1, 'order_delivered_customer_date': 2})\n",
      "Row(('f222c56f035b47dfa1e069a88235d730', datetime.datetime(2018, 2, 4, 23, 31, 47), datetime.datetime(2018, 2, 1, 20, 10, 38)), {'order_id': 0, 'order_approved_at': 1, 'order_delivered_customer_date': 2})\n",
      "Row(('4d5e865e4b64c8b33f8a81fd14731344', datetime.datetime(2018, 4, 24, 19, 20, 25), datetime.datetime(2018, 4, 23, 14, 35, 2)), {'order_id': 0, 'order_approved_at': 1, 'order_delivered_customer_date': 2})\n",
      "Row(('d15a4c4d1426b7275d538063d8fe4c6a', datetime.datetime(2018, 4, 24, 18, 44, 29), datetime.datetime(2018, 4, 24, 17, 24, 50)), {'order_id': 0, 'order_approved_at': 1, 'order_delivered_customer_date': 2})\n",
      "Row(('fcbf4f4ef049367f9f85af94ed3b6010', datetime.datetime(2018, 4, 24, 18, 41, 20), datetime.datetime(2018, 4, 24, 14, 3, 28)), {'order_id': 0, 'order_approved_at': 1, 'order_delivered_customer_date': 2})\n",
      "Row(('8b83251dbc9bd02530320cceb82cc03e', datetime.datetime(2018, 4, 24, 18, 59, 43), datetime.datetime(2018, 4, 24, 18, 22, 27)), {'order_id': 0, 'order_approved_at': 1, 'order_delivered_customer_date': 2})\n",
      "Row(('fab28f3d1cfbe171566884703d82682e', datetime.datetime(2018, 4, 24, 18, 25, 30), datetime.datetime(2018, 4, 24, 15, 28, 41)), {'order_id': 0, 'order_approved_at': 1, 'order_delivered_customer_date': 2})\n",
      "Row(('5b9e437b9b8c217c1e35158aeafc2102', datetime.datetime(2018, 4, 24, 19, 6, 45), datetime.datetime(2018, 4, 24, 15, 32, 18)), {'order_id': 0, 'order_approved_at': 1, 'order_delivered_customer_date': 2})\n",
      "Row(('9a6327d5a077984fa3e3c659a24e7915', datetime.datetime(2018, 4, 24, 18, 59, 19), datetime.datetime(2018, 4, 24, 18, 17, 7)), {'order_id': 0, 'order_approved_at': 1, 'order_delivered_customer_date': 2})\n",
      "Row(('82ffe097d8ddbf319a523b9bbe7725d5', datetime.datetime(2018, 4, 24, 18, 29, 30), datetime.datetime(2018, 4, 24, 17, 34, 30)), {'order_id': 0, 'order_approved_at': 1, 'order_delivered_customer_date': 2})\n",
      "Row(('5f827831438fdab57e6b6b98328b360e', datetime.datetime(2018, 4, 24, 18, 22, 30), datetime.datetime(2018, 4, 24, 14, 40, 46)), {'order_id': 0, 'order_approved_at': 1, 'order_delivered_customer_date': 2})\n",
      "Row(('547b3596c03dfad1b87305e9c5a554c2', datetime.datetime(2018, 4, 24, 19, 23, 54), datetime.datetime(2018, 4, 24, 19, 18, 35)), {'order_id': 0, 'order_approved_at': 1, 'order_delivered_customer_date': 2})\n",
      "Row(('cb0909932c118481a0e44396d80ab2e8', datetime.datetime(2018, 4, 24, 19, 24, 43), datetime.datetime(2018, 4, 24, 15, 32, 26)), {'order_id': 0, 'order_approved_at': 1, 'order_delivered_customer_date': 2})\n",
      "Row(('641879e47a518bfcd257cdedda69f029', datetime.datetime(2018, 4, 24, 19, 25, 17), datetime.datetime(2018, 4, 24, 19, 18, 51)), {'order_id': 0, 'order_approved_at': 1, 'order_delivered_customer_date': 2})\n",
      "Row(('ced9d48cd170ccf0a762bf379b4723fc', datetime.datetime(2018, 4, 24, 18, 40, 4), datetime.datetime(2018, 4, 24, 15, 24, 38)), {'order_id': 0, 'order_approved_at': 1, 'order_delivered_customer_date': 2})\n",
      "Row(('1809078b655469f11b429102fb296998', datetime.datetime(2018, 4, 24, 19, 10, 37), datetime.datetime(2018, 4, 24, 18, 47, 46)), {'order_id': 0, 'order_approved_at': 1, 'order_delivered_customer_date': 2})\n",
      "Row(('746e0019b6fc6170534f81e45e8d55ec', datetime.datetime(2018, 4, 24, 18, 30, 9), datetime.datetime(2018, 4, 24, 17, 6, 38)), {'order_id': 0, 'order_approved_at': 1, 'order_delivered_customer_date': 2})\n",
      "Row(('59c51bdf0c3270d962625e5ebbe22fb1', datetime.datetime(2018, 7, 5, 16, 8, 11), datetime.datetime(2018, 7, 4, 15, 32, 20)), {'order_id': 0, 'order_approved_at': 1, 'order_delivered_customer_date': 2})\n",
      "Row(('0467205a89711e4ec8e70ef2277e3287', datetime.datetime(2018, 7, 5, 16, 40, 30), datetime.datetime(2018, 7, 4, 22, 42, 41)), {'order_id': 0, 'order_approved_at': 1, 'order_delivered_customer_date': 2})\n",
      "Row(('6d1832bd42dccbd91d1ce32da7f54492', datetime.datetime(2018, 7, 5, 16, 19, 44), datetime.datetime(2018, 7, 4, 22, 37, 38)), {'order_id': 0, 'order_approved_at': 1, 'order_delivered_customer_date': 2})\n",
      "Row(('f5234dc943e266dc8922b4870dc9d491', datetime.datetime(2018, 7, 5, 16, 15, 52), datetime.datetime(2018, 7, 4, 14, 57, 44)), {'order_id': 0, 'order_approved_at': 1, 'order_delivered_customer_date': 2})\n",
      "Row(('70e534acd4ff3f46956f7b4b36418474', datetime.datetime(2018, 7, 5, 16, 34, 40), datetime.datetime(2018, 7, 5, 15, 13, 43)), {'order_id': 0, 'order_approved_at': 1, 'order_delivered_customer_date': 2})\n",
      "Row(('3a41d0e227b4c6fff055561af5eaca13', datetime.datetime(2018, 7, 5, 16, 11, 6), datetime.datetime(2018, 7, 5, 14, 16, 41)), {'order_id': 0, 'order_approved_at': 1, 'order_delivered_customer_date': 2})\n",
      "Row(('6d1f16f4ed292206fbeedf3b44e0ceb3', datetime.datetime(2018, 7, 5, 16, 7, 28), datetime.datetime(2018, 7, 4, 22, 12, 51)), {'order_id': 0, 'order_approved_at': 1, 'order_delivered_customer_date': 2})\n",
      "Row(('b038f6ae89bdd1fddd3b51ace3ff8b30', datetime.datetime(2018, 7, 5, 16, 13, 40), datetime.datetime(2018, 7, 5, 14, 12, 1)), {'order_id': 0, 'order_approved_at': 1, 'order_delivered_customer_date': 2})\n",
      "Row(('5a41aefdf8010bbd69a5264f69213b73', datetime.datetime(2018, 7, 5, 16, 17, 20), datetime.datetime(2018, 7, 5, 12, 48, 37)), {'order_id': 0, 'order_approved_at': 1, 'order_delivered_customer_date': 2})\n",
      "Row(('0e1501cd30758f584d1fa67cc6f9493a', datetime.datetime(2018, 7, 5, 16, 25, 45), datetime.datetime(2018, 7, 4, 23, 3, 36)), {'order_id': 0, 'order_approved_at': 1, 'order_delivered_customer_date': 2})\n",
      "Row(('be7d02ed4f9ec9a43ac0f6adade17ade', datetime.datetime(2018, 7, 5, 16, 23, 22), datetime.datetime(2018, 7, 4, 15, 33, 58)), {'order_id': 0, 'order_approved_at': 1, 'order_delivered_customer_date': 2})\n",
      "Row(('d6e3732aea036f7d71b44db75163e2f4', datetime.datetime(2018, 7, 5, 16, 27, 57), datetime.datetime(2018, 7, 5, 15, 21, 52)), {'order_id': 0, 'order_approved_at': 1, 'order_delivered_customer_date': 2})\n",
      "Row(('4f3a6e28d764cf896b1fceb0028422c8', datetime.datetime(2018, 7, 5, 16, 21, 50), datetime.datetime(2018, 7, 5, 13, 32, 49)), {'order_id': 0, 'order_approved_at': 1, 'order_delivered_customer_date': 2})\n",
      "Row(('ecd1661658d34312cf9ac2bf34ba3b6b', datetime.datetime(2018, 7, 5, 16, 25, 45), datetime.datetime(2018, 7, 5, 12, 58, 37)), {'order_id': 0, 'order_approved_at': 1, 'order_delivered_customer_date': 2})\n",
      "Row(('58d4c4747ee059eeeb865b349b41f53a', datetime.datetime(2018, 7, 26, 23, 31, 53), datetime.datetime(2018, 7, 25, 23, 58, 19)), {'order_id': 0, 'order_approved_at': 1, 'order_delivered_customer_date': 2})\n",
      "Row(('6df6c9c9af6ef75b4f06f8a7b9f47e9c', datetime.datetime(2018, 7, 28, 23, 31, 6), datetime.datetime(2018, 7, 26, 17, 3, 43)), {'order_id': 0, 'order_approved_at': 1, 'order_delivered_customer_date': 2})\n",
      "Row(('fa962e76e50f3469ae2abfa54e6d5be0', datetime.datetime(2018, 7, 27, 23, 30, 58), datetime.datetime(2018, 7, 25, 18, 21, 18)), {'order_id': 0, 'order_approved_at': 1, 'order_delivered_customer_date': 2})\n",
      "Row(('a727355acb88d9b3e6e41fb2e3888a0e', datetime.datetime(2018, 7, 28, 23, 31, 1), datetime.datetime(2018, 7, 25, 17, 35, 30)), {'order_id': 0, 'order_approved_at': 1, 'order_delivered_customer_date': 2})\n",
      "Row(('a49dc0169f9bb6d3ac9829bdebd12299', datetime.datetime(2018, 7, 26, 23, 31, 27), datetime.datetime(2018, 7, 25, 18, 24, 31)), {'order_id': 0, 'order_approved_at': 1, 'order_delivered_customer_date': 2})\n",
      "Row(('d836abb4444d8594455e9766104e958c', datetime.datetime(2018, 7, 27, 23, 31, 14), datetime.datetime(2018, 7, 25, 18, 9, 23)), {'order_id': 0, 'order_approved_at': 1, 'order_delivered_customer_date': 2})\n",
      "Row(('66e1b657a71397245290f39ffe24031e', datetime.datetime(2018, 7, 27, 23, 31, 10), datetime.datetime(2018, 7, 25, 14, 58, 47)), {'order_id': 0, 'order_approved_at': 1, 'order_delivered_customer_date': 2})\n",
      "Row(('bc1b85147b5edbb7cbefcf5c1bd5ded9', datetime.datetime(2018, 7, 29, 23, 30, 54), datetime.datetime(2018, 7, 25, 20, 56, 35)), {'order_id': 0, 'order_approved_at': 1, 'order_delivered_customer_date': 2})\n",
      "Row(('dd46ac8cf8a385a883f38119228c584e', datetime.datetime(2018, 7, 26, 23, 32, 8), datetime.datetime(2018, 7, 26, 16, 58, 30)), {'order_id': 0, 'order_approved_at': 1, 'order_delivered_customer_date': 2})\n",
      "Row(('5e981569f5835c96e4b288363b3b8f63', datetime.datetime(2018, 8, 2, 13, 43, 13), datetime.datetime(2018, 8, 1, 15, 17, 54)), {'order_id': 0, 'order_approved_at': 1, 'order_delivered_customer_date': 2})\n",
      "Row(('9c3186381b733d4304e2e416afc6bbc1', datetime.datetime(2018, 8, 2, 23, 30, 29), datetime.datetime(2018, 8, 1, 19, 4, 37)), {'order_id': 0, 'order_approved_at': 1, 'order_delivered_customer_date': 2})\n",
      "Row(('4df92d82d79c3b52c7138679fa9b07fc', datetime.datetime(2018, 7, 29, 23, 30, 52), datetime.datetime(2018, 7, 27, 18, 55, 57)), {'order_id': 0, 'order_approved_at': 1, 'order_delivered_customer_date': 2})\n",
      "Row(('4e16f71b2a5ddc0266f9ddfdfd0bcfba', datetime.datetime(2018, 7, 27, 23, 30, 54), datetime.datetime(2018, 7, 27, 16, 46, 38)), {'order_id': 0, 'order_approved_at': 1, 'order_delivered_customer_date': 2})\n",
      "Row(('394d17c2b71a726e205caaeee3d2aa3d', datetime.datetime(2018, 8, 8, 23, 31, 22), datetime.datetime(2018, 8, 7, 19, 28, 25)), {'order_id': 0, 'order_approved_at': 1, 'order_delivered_customer_date': 2})\n",
      "Row(('97823d6731e59cd6b4f9d3ea113a976e', datetime.datetime(2018, 7, 28, 23, 30, 58), datetime.datetime(2018, 7, 27, 12, 3, 15)), {'order_id': 0, 'order_approved_at': 1, 'order_delivered_customer_date': 2})\n",
      "Row(('4387477eec4b3c89b39f3f454940d059', datetime.datetime(2018, 8, 20, 15, 56, 29), datetime.datetime(2018, 8, 15, 14, 56, 43)), {'order_id': 0, 'order_approved_at': 1, 'order_delivered_customer_date': 2})\n",
      "Row(('6dcf0aeb8b1eb4021c26e1d0e9394979', datetime.datetime(2018, 8, 20, 15, 59, 18), datetime.datetime(2018, 8, 15, 19, 6, 29)), {'order_id': 0, 'order_approved_at': 1, 'order_delivered_customer_date': 2})\n",
      "Row(('e73fe43cdcd166f7f0c6e3c2bf11a917', datetime.datetime(2018, 8, 20, 15, 57, 28), datetime.datetime(2018, 8, 15, 15, 46, 38)), {'order_id': 0, 'order_approved_at': 1, 'order_delivered_customer_date': 2})\n",
      "Row(('6fa0c125ee7d870f6602c97e33d87bc5', datetime.datetime(2018, 8, 20, 15, 59, 54), datetime.datetime(2018, 8, 17, 20, 51, 25)), {'order_id': 0, 'order_approved_at': 1, 'order_delivered_customer_date': 2})\n",
      "Row(('6e57e23ecac1ae881286657694444267', datetime.datetime(2018, 8, 20, 15, 55, 42), datetime.datetime(2018, 8, 17, 16, 45, 45)), {'order_id': 0, 'order_approved_at': 1, 'order_delivered_customer_date': 2})\n"
     ]
    }
   ],
   "source": [
    "query = \"\"\"\n",
    "SELECT order_id, order_approved_at, order_delivered_customer_date\n",
    "FROM `concise-faculty-452613-a1.brazil_e_commerce.orders`\n",
    "WHERE order_approved_at > order_delivered_customer_date;\n",
    "\"\"\"\n",
    "query_job = client.query(query)  # Send SQL query to BigQuery\n",
    "results = query_job.result()  # Fetch query results\n",
    "for row in results:\n",
    "    print(row)"
   ]
  },
  {
   "cell_type": "markdown",
   "id": "bd2724db",
   "metadata": {},
   "source": [
    "#### This is an invalid data scenario, as the order approval date should logically occur before the order delivery date."
   ]
  },
  {
   "cell_type": "markdown",
   "id": "ce2b32ac",
   "metadata": {},
   "source": [
    "#### Due to discrepancies identified during data validation, the column order_approved_at has been excluded from the fact table to ensure data integrity and consistency in analysis."
   ]
  },
  {
   "cell_type": "markdown",
   "id": "0edeceb3",
   "metadata": {},
   "source": [
    "Check for invalid order dates where order_purchase_timestamp is greater than order_delivered_customer_date"
   ]
  },
  {
   "cell_type": "code",
   "execution_count": 46,
   "id": "f4a89aa8",
   "metadata": {},
   "outputs": [
    {
     "name": "stdout",
     "output_type": "stream",
     "text": [
      "Total number of invalid dates: 0\n"
     ]
    }
   ],
   "source": [
    "query = \"\"\"\n",
    "SELECT COUNT(*) AS invalid_dates\n",
    "FROM `concise-faculty-452613-a1.brazil_e_commerce.orders`\n",
    "WHERE order_purchase_timestamp > order_delivered_customer_date;\n",
    "\"\"\"\n",
    "\n",
    "query_job = client.query(query)  # Send SQL query to BigQuery\n",
    "results = query_job.result()  # Fetch query results\n",
    "\n",
    "# Check if there are results\n",
    "if results.total_rows == 0:\n",
    "    print(\"No invalid dates found.\")\n",
    "else:\n",
    "    # Print the result if invalid dates exist\n",
    "    for row in results:\n",
    "        print(f\"Total number of invalid dates: {row['invalid_dates']}\")"
   ]
  },
  {
   "cell_type": "code",
   "execution_count": null,
   "id": "21965962",
   "metadata": {},
   "outputs": [],
   "source": []
  }
 ],
 "metadata": {
  "kernelspec": {
   "display_name": "Python 3",
   "language": "python",
   "name": "python3"
  },
  "language_info": {
   "codemirror_mode": {
    "name": "ipython",
    "version": 3
   },
   "file_extension": ".py",
   "mimetype": "text/x-python",
   "name": "python",
   "nbconvert_exporter": "python",
   "pygments_lexer": "ipython3",
   "version": "3.8.8"
  }
 },
 "nbformat": 4,
 "nbformat_minor": 5
}
